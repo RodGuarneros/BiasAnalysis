{
 "cells": [
  {
   "cell_type": "code",
   "execution_count": 1,
   "id": "d8a89004",
   "metadata": {},
   "outputs": [],
   "source": [
    "import pandas as pd\n",
    "import numpy as np\n",
    "import matplotlib.pyplot as plt\n",
    "import scipy.stats as sts\n",
    "import dataframe_image as dfi\n",
    "import math"
   ]
  },
  {
   "cell_type": "code",
   "execution_count": 2,
   "id": "ada02fbe",
   "metadata": {},
   "outputs": [],
   "source": [
    "pd.set_option('display.float_format', lambda x: '%.9f' % x)"
   ]
  },
  {
   "cell_type": "code",
   "execution_count": 3,
   "id": "87441561",
   "metadata": {},
   "outputs": [
    {
     "data": {
      "text/html": [
       "<div>\n",
       "<style scoped>\n",
       "    .dataframe tbody tr th:only-of-type {\n",
       "        vertical-align: middle;\n",
       "    }\n",
       "\n",
       "    .dataframe tbody tr th {\n",
       "        vertical-align: top;\n",
       "    }\n",
       "\n",
       "    .dataframe thead th {\n",
       "        text-align: right;\n",
       "    }\n",
       "</style>\n",
       "<table border=\"1\" class=\"dataframe\">\n",
       "  <thead>\n",
       "    <tr style=\"text-align: right;\">\n",
       "      <th></th>\n",
       "      <th>FOLIO</th>\n",
       "      <th>ANIO</th>\n",
       "      <th>TRIM</th>\n",
       "      <th>FECHA</th>\n",
       "      <th>CONCESIONARIO</th>\n",
       "      <th>K_EMPRESA</th>\n",
       "      <th>EMPRESA</th>\n",
       "      <th>K_GRUPO</th>\n",
       "      <th>GRUPO</th>\n",
       "      <th>I_FIJO_MOVIL</th>\n",
       "      <th>INGRESOS_TOTAL_E</th>\n",
       "    </tr>\n",
       "  </thead>\n",
       "  <tbody>\n",
       "    <tr>\n",
       "      <th>0</th>\n",
       "      <td>100028</td>\n",
       "      <td>2021</td>\n",
       "      <td>4</td>\n",
       "      <td>15DEC2021</td>\n",
       "      <td>ADOLFO MERINO MEDINA</td>\n",
       "      <td>C0089</td>\n",
       "      <td>CABLEMAS</td>\n",
       "      <td>G004</td>\n",
       "      <td>GRUPO TELEVISA</td>\n",
       "      <td>Fijo</td>\n",
       "      <td>434431.000000000</td>\n",
       "    </tr>\n",
       "    <tr>\n",
       "      <th>1</th>\n",
       "      <td>100029</td>\n",
       "      <td>2021</td>\n",
       "      <td>4</td>\n",
       "      <td>15DEC2021</td>\n",
       "      <td>AGUSTIN PEREZ VIEYRA</td>\n",
       "      <td>C0009</td>\n",
       "      <td>AGUSTIN PEREZ VIEYRA</td>\n",
       "      <td>C009</td>\n",
       "      <td>AGUSTIN PEREZ VIEYRA</td>\n",
       "      <td>Fijo</td>\n",
       "      <td>682018.800000000</td>\n",
       "    </tr>\n",
       "    <tr>\n",
       "      <th>2</th>\n",
       "      <td>100065</td>\n",
       "      <td>2021</td>\n",
       "      <td>4</td>\n",
       "      <td>15DEC2021</td>\n",
       "      <td>ARELY ISABEL GONGORA PECH</td>\n",
       "      <td>C0046</td>\n",
       "      <td>ARELY ISABEL GONGORA PECH</td>\n",
       "      <td>C046</td>\n",
       "      <td>ARELY ISABEL GONGORA PECH</td>\n",
       "      <td>Fijo</td>\n",
       "      <td>1149516.000000000</td>\n",
       "    </tr>\n",
       "    <tr>\n",
       "      <th>3</th>\n",
       "      <td>100142</td>\n",
       "      <td>2021</td>\n",
       "      <td>4</td>\n",
       "      <td>15DEC2021</td>\n",
       "      <td>FRANCISCO GUERRA GARCIA</td>\n",
       "      <td>C0666</td>\n",
       "      <td>FRANCISCO GUERRA GARCIA</td>\n",
       "      <td>C666</td>\n",
       "      <td>FRANCISCO GUERRA GARCIA</td>\n",
       "      <td>FIJO</td>\n",
       "      <td>1947843.000000000</td>\n",
       "    </tr>\n",
       "    <tr>\n",
       "      <th>4</th>\n",
       "      <td>100147</td>\n",
       "      <td>2021</td>\n",
       "      <td>4</td>\n",
       "      <td>15DEC2021</td>\n",
       "      <td>GABRIEL BUTRON CHIAPA</td>\n",
       "      <td>C0199</td>\n",
       "      <td>GABRIEL BUTRON CHIAPA</td>\n",
       "      <td>C199</td>\n",
       "      <td>GABRIEL BUTRON CHIAPA</td>\n",
       "      <td>Fijo</td>\n",
       "      <td>1109813.000000000</td>\n",
       "    </tr>\n",
       "    <tr>\n",
       "      <th>...</th>\n",
       "      <td>...</td>\n",
       "      <td>...</td>\n",
       "      <td>...</td>\n",
       "      <td>...</td>\n",
       "      <td>...</td>\n",
       "      <td>...</td>\n",
       "      <td>...</td>\n",
       "      <td>...</td>\n",
       "      <td>...</td>\n",
       "      <td>...</td>\n",
       "      <td>...</td>\n",
       "    </tr>\n",
       "    <tr>\n",
       "      <th>128</th>\n",
       "      <td>519163</td>\n",
       "      <td>2021</td>\n",
       "      <td>4</td>\n",
       "      <td>15DEC2021</td>\n",
       "      <td>CONVERGENCIA Y DESARROLLO DIGITAL, S.A. DE C.V.</td>\n",
       "      <td>C0807</td>\n",
       "      <td>RED DOG</td>\n",
       "      <td>C807</td>\n",
       "      <td>RED DOG</td>\n",
       "      <td>Fijo y OMV</td>\n",
       "      <td>1460571.890000000</td>\n",
       "    </tr>\n",
       "    <tr>\n",
       "      <th>129</th>\n",
       "      <td>519208</td>\n",
       "      <td>2021</td>\n",
       "      <td>4</td>\n",
       "      <td>15DEC2021</td>\n",
       "      <td>TELMOV MOVIL, S.A. DE C.V.</td>\n",
       "      <td>C0080</td>\n",
       "      <td>TELMOVIL</td>\n",
       "      <td>C080</td>\n",
       "      <td>TELMOVIL</td>\n",
       "      <td>OMV</td>\n",
       "      <td>188109.280000000</td>\n",
       "    </tr>\n",
       "    <tr>\n",
       "      <th>130</th>\n",
       "      <td>519363</td>\n",
       "      <td>2021</td>\n",
       "      <td>4</td>\n",
       "      <td>15DEC2021</td>\n",
       "      <td>MARKETING 358, S.A. DE C.V.</td>\n",
       "      <td>C0473</td>\n",
       "      <td>MARKETING 358</td>\n",
       "      <td>C473</td>\n",
       "      <td>MARKETING 358</td>\n",
       "      <td>OMV</td>\n",
       "      <td>1924097.070000000</td>\n",
       "    </tr>\n",
       "    <tr>\n",
       "      <th>131</th>\n",
       "      <td>519422</td>\n",
       "      <td>2021</td>\n",
       "      <td>4</td>\n",
       "      <td>15DEC2021</td>\n",
       "      <td>BROCOMUNICACIONES MOVILES, S.A.P.I. DE C.V.</td>\n",
       "      <td>C0511</td>\n",
       "      <td>BROMOVIL</td>\n",
       "      <td>C511</td>\n",
       "      <td>BROMOVIL</td>\n",
       "      <td>OMV</td>\n",
       "      <td>237150.700000000</td>\n",
       "    </tr>\n",
       "    <tr>\n",
       "      <th>132</th>\n",
       "      <td>519694</td>\n",
       "      <td>2021</td>\n",
       "      <td>4</td>\n",
       "      <td>15DEC2021</td>\n",
       "      <td>EDUARDO PEDRERO PEREZ</td>\n",
       "      <td>C0825</td>\n",
       "      <td>EDUARDO PEDRERO PEREZ</td>\n",
       "      <td>C825</td>\n",
       "      <td>EDUARDO PEDRERO PEREZ</td>\n",
       "      <td>FIJO</td>\n",
       "      <td>68200.000000000</td>\n",
       "    </tr>\n",
       "  </tbody>\n",
       "</table>\n",
       "<p>133 rows × 11 columns</p>\n",
       "</div>"
      ],
      "text/plain": [
       "      FOLIO  ANIO  TRIM      FECHA  \\\n",
       "0    100028  2021     4  15DEC2021   \n",
       "1    100029  2021     4  15DEC2021   \n",
       "2    100065  2021     4  15DEC2021   \n",
       "3    100142  2021     4  15DEC2021   \n",
       "4    100147  2021     4  15DEC2021   \n",
       "..      ...   ...   ...        ...   \n",
       "128  519163  2021     4  15DEC2021   \n",
       "129  519208  2021     4  15DEC2021   \n",
       "130  519363  2021     4  15DEC2021   \n",
       "131  519422  2021     4  15DEC2021   \n",
       "132  519694  2021     4  15DEC2021   \n",
       "\n",
       "                                       CONCESIONARIO K_EMPRESA  \\\n",
       "0                               ADOLFO MERINO MEDINA     C0089   \n",
       "1                               AGUSTIN PEREZ VIEYRA     C0009   \n",
       "2                          ARELY ISABEL GONGORA PECH     C0046   \n",
       "3                            FRANCISCO GUERRA GARCIA     C0666   \n",
       "4                              GABRIEL BUTRON CHIAPA     C0199   \n",
       "..                                               ...       ...   \n",
       "128  CONVERGENCIA Y DESARROLLO DIGITAL, S.A. DE C.V.     C0807   \n",
       "129                       TELMOV MOVIL, S.A. DE C.V.     C0080   \n",
       "130                      MARKETING 358, S.A. DE C.V.     C0473   \n",
       "131      BROCOMUNICACIONES MOVILES, S.A.P.I. DE C.V.     C0511   \n",
       "132                            EDUARDO PEDRERO PEREZ     C0825   \n",
       "\n",
       "                       EMPRESA K_GRUPO                      GRUPO  \\\n",
       "0                     CABLEMAS    G004             GRUPO TELEVISA   \n",
       "1         AGUSTIN PEREZ VIEYRA    C009       AGUSTIN PEREZ VIEYRA   \n",
       "2    ARELY ISABEL GONGORA PECH    C046  ARELY ISABEL GONGORA PECH   \n",
       "3      FRANCISCO GUERRA GARCIA    C666    FRANCISCO GUERRA GARCIA   \n",
       "4        GABRIEL BUTRON CHIAPA    C199      GABRIEL BUTRON CHIAPA   \n",
       "..                         ...     ...                        ...   \n",
       "128                    RED DOG    C807                    RED DOG   \n",
       "129                   TELMOVIL    C080                   TELMOVIL   \n",
       "130              MARKETING 358    C473              MARKETING 358   \n",
       "131                   BROMOVIL    C511                   BROMOVIL   \n",
       "132      EDUARDO PEDRERO PEREZ    C825      EDUARDO PEDRERO PEREZ   \n",
       "\n",
       "    I_FIJO_MOVIL  INGRESOS_TOTAL_E  \n",
       "0           Fijo  434431.000000000  \n",
       "1           Fijo  682018.800000000  \n",
       "2           Fijo 1149516.000000000  \n",
       "3           FIJO 1947843.000000000  \n",
       "4           Fijo 1109813.000000000  \n",
       "..           ...               ...  \n",
       "128   Fijo y OMV 1460571.890000000  \n",
       "129          OMV  188109.280000000  \n",
       "130          OMV 1924097.070000000  \n",
       "131          OMV  237150.700000000  \n",
       "132         FIJO   68200.000000000  \n",
       "\n",
       "[133 rows x 11 columns]"
      ]
     },
     "execution_count": 3,
     "metadata": {},
     "output_type": "execute_result"
    }
   ],
   "source": [
    "# Es importante mencionar que esta base de datos proviene de la última actualización en el Banco de Información de Telecomunicaciones\n",
    "# del IFT, consultado el 19 de agosto de 2022. \n",
    "# Por este motivo se incluye en este repositorio esa versión de la base de datos a efectos de que si desea replicar el \n",
    "# resultado, lo haga con este conjunto de datos, toda vez que la información en el BIT podría variar sin previo aviso.\n",
    "\n",
    "ingresos = pd.read_csv('ingresos_2021.csv', encoding ='utf-8')\n",
    "ingresos"
   ]
  },
  {
   "cell_type": "code",
   "execution_count": 4,
   "id": "7731b086",
   "metadata": {
    "scrolled": false
   },
   "outputs": [
    {
     "data": {
      "text/plain": [
       "array(['GRUPO TELEVISA', 'AGUSTIN PEREZ VIEYRA',\n",
       "       'ARELY ISABEL GONGORA PECH', 'FRANCISCO GUERRA GARCIA',\n",
       "       'GABRIEL BUTRON CHIAPA', 'GUILLERMO MEDELLIN MILAN',\n",
       "       'GUILLERMO ZARATE GARCIA', 'ISALIA MORENO ZETINA',\n",
       "       'JAIME SANCHEZ SANCHEZ', 'JESUS MIGUEL FERNANDEZ GUERRERO',\n",
       "       'JOSE JULIAN SACRAMENTO GARZA', 'MANUEL LOPEZ AVILA',\n",
       "       'MARCO ANTONIO ROSALES HERRERA', 'ROBERTO LOPEZ BRAVO',\n",
       "       'SARA QUIROZ CHAPA', 'TV-K', 'TELECAB', 'STARGROUP',\n",
       "       'MEGACABLE-MCM', 'TELESISTEMAS PENINSULARES', 'AXTEL', 'GLOBALSAT',\n",
       "       'TELECOM NACIONAL', 'TOTALPLAY', 'HISPASAT', 'AIRECABLE',\n",
       "       'USA TELECOM', 'COMCAB', 'SINOTECA',\n",
       "       'COORDINADORA DE TV POR CABLE', 'TV OJO CALIENTE', 'AMERICA MOVIL',\n",
       "       'TELECABLE DE TICUL', 'EUTELSAT AMERICAS', 'MARCATEL',\n",
       "       'LINK TE CONECTAMOS', 'ELARA COMUNICACIONES',\n",
       "       'CABLEVISION DE APATZINGAN', 'MVS', 'MAXICABLE', 'BT LATAM MEXICO',\n",
       "       'TELECABLE DE COAHUAYANA', 'TELEFONICA', 'OUI',\n",
       "       'VERIZON SERVICIOS EMPRESARIALES MEXICO', 'BBG COMUNICACION',\n",
       "       'SUPERCOM', 'JACE TELECOM', 'SECSA', 'RAVS CABLE', 'HNS DE MEXICO',\n",
       "       'UC TELECOM', 'TRANSTELCO', 'TELECABLE DE AGUILILLA',\n",
       "       'HIPERCABLE DE MONCLOVA', 'TELECABLE DE TEKAX', 'STAR NET',\n",
       "       'TELECABLE DE XALTIANGUIS', 'IST', 'TOKA MOVIL',\n",
       "       'OPERADORA TELEFONICA PENINSULAR', 'VIRGIN MOBILE', 'BUENO CELL',\n",
       "       'IENTC', 'CABLEVISION DE LA HUACANA', 'TELECABLE DE CAMPECHE',\n",
       "       'OTROS', 'TELECABLE DE VILLANUEVA', 'QBO CEL', 'CONCABLETV',\n",
       "       'AT&T', 'TELECABLE MERIDA', 'TVDIG', 'NEXT TELEKOM',\n",
       "       'FLASH MOBILE', 'CABLE SISTEMA DEL CENTRO', 'SIMPATI',\n",
       "       'HERMOVISION', 'SIHI MEXICO', 'COMNET', 'VADSA', 'RBACATV',\n",
       "       'EYCO DE LOS ALTOS', 'FREEDOM', 'ALTAN', 'SIERRA MADRE TELECOM',\n",
       "       'QUATTROCOM', 'NET LINK', 'SISCAB DE MEXICO', 'ESPID',\n",
       "       'TELECABLE DE CUERNAVACA', 'GILAT', 'VASANTA',\n",
       "       'GRUPO CORPORATIVO ZUNUN PAZ', 'INTEGRA COMUNICACIONES',\n",
       "       'CABLEPLAY', 'MUCHOS MEGAS', 'YOBI TELECOM', 'GURUCOMM', 'SISTV',\n",
       "       'CCA', 'TELECABLE DE MARIANO ESCOBEDO', 'ADDINTELI', 'DIRI MOVIL',\n",
       "       'IGOU TELECOM', 'NEWWW', 'WIMOTELECOM', 'WEEX', 'CRO.NET', 'GOBO',\n",
       "       'RED DOG', 'TELMOVIL', 'MARKETING 358', 'BROMOVIL',\n",
       "       'EDUARDO PEDRERO PEREZ'], dtype=object)"
      ]
     },
     "execution_count": 4,
     "metadata": {},
     "output_type": "execute_result"
    }
   ],
   "source": [
    "ingresos['GRUPO'].unique()"
   ]
  },
  {
   "cell_type": "code",
   "execution_count": 5,
   "id": "045e0086",
   "metadata": {},
   "outputs": [
    {
     "data": {
      "text/plain": [
       "115"
      ]
     },
     "execution_count": 5,
     "metadata": {},
     "output_type": "execute_result"
    }
   ],
   "source": [
    "len(ingresos['GRUPO'].unique())"
   ]
  },
  {
   "cell_type": "code",
   "execution_count": 6,
   "id": "50222db9",
   "metadata": {},
   "outputs": [
    {
     "data": {
      "text/html": [
       "<div>\n",
       "<style scoped>\n",
       "    .dataframe tbody tr th:only-of-type {\n",
       "        vertical-align: middle;\n",
       "    }\n",
       "\n",
       "    .dataframe tbody tr th {\n",
       "        vertical-align: top;\n",
       "    }\n",
       "\n",
       "    .dataframe thead th {\n",
       "        text-align: right;\n",
       "    }\n",
       "</style>\n",
       "<table border=\"1\" class=\"dataframe\">\n",
       "  <thead>\n",
       "    <tr style=\"text-align: right;\">\n",
       "      <th></th>\n",
       "      <th>FOLIO</th>\n",
       "      <th>ANIO</th>\n",
       "      <th>TRIM</th>\n",
       "      <th>FECHA</th>\n",
       "      <th>CONCESIONARIO</th>\n",
       "      <th>K_EMPRESA</th>\n",
       "      <th>EMPRESA</th>\n",
       "      <th>K_GRUPO</th>\n",
       "      <th>GRUPO</th>\n",
       "      <th>I_FIJO_MOVIL</th>\n",
       "      <th>INGRESOS_TOTAL_E</th>\n",
       "    </tr>\n",
       "  </thead>\n",
       "  <tbody>\n",
       "    <tr>\n",
       "      <th>20</th>\n",
       "      <td>100443</td>\n",
       "      <td>2021</td>\n",
       "      <td>4</td>\n",
       "      <td>15DEC2021</td>\n",
       "      <td>AXTEL, S.A.B. DE C.V.</td>\n",
       "      <td>C0055</td>\n",
       "      <td>AXTEL</td>\n",
       "      <td>G009</td>\n",
       "      <td>AXTEL</td>\n",
       "      <td>Fijo</td>\n",
       "      <td>NaN</td>\n",
       "    </tr>\n",
       "    <tr>\n",
       "      <th>79</th>\n",
       "      <td>106830</td>\n",
       "      <td>2021</td>\n",
       "      <td>4</td>\n",
       "      <td>15DEC2021</td>\n",
       "      <td>VIRGIN MOBILE MEXICO, S. DE R.L. DE C.V.</td>\n",
       "      <td>C0629</td>\n",
       "      <td>VIRGIN MOBILE</td>\n",
       "      <td>C629</td>\n",
       "      <td>VIRGIN MOBILE</td>\n",
       "      <td>OMV</td>\n",
       "      <td>NaN</td>\n",
       "    </tr>\n",
       "    <tr>\n",
       "      <th>86</th>\n",
       "      <td>107206</td>\n",
       "      <td>2021</td>\n",
       "      <td>4</td>\n",
       "      <td>15DEC2021</td>\n",
       "      <td>KUBO CEL, S.A.P.I. DE C.V.</td>\n",
       "      <td>C0323</td>\n",
       "      <td>QBO CEL</td>\n",
       "      <td>C323</td>\n",
       "      <td>QBO CEL</td>\n",
       "      <td>OMV</td>\n",
       "      <td>NaN</td>\n",
       "    </tr>\n",
       "    <tr>\n",
       "      <th>98</th>\n",
       "      <td>501907</td>\n",
       "      <td>2021</td>\n",
       "      <td>4</td>\n",
       "      <td>15DEC2021</td>\n",
       "      <td>VALOR AGREGADO DIGITAL, S.A. DE C.V.</td>\n",
       "      <td>C0734</td>\n",
       "      <td>VADSA</td>\n",
       "      <td>C734</td>\n",
       "      <td>VADSA</td>\n",
       "      <td>Fijo</td>\n",
       "      <td>NaN</td>\n",
       "    </tr>\n",
       "  </tbody>\n",
       "</table>\n",
       "</div>"
      ],
      "text/plain": [
       "     FOLIO  ANIO  TRIM      FECHA                             CONCESIONARIO  \\\n",
       "20  100443  2021     4  15DEC2021                     AXTEL, S.A.B. DE C.V.   \n",
       "79  106830  2021     4  15DEC2021  VIRGIN MOBILE MEXICO, S. DE R.L. DE C.V.   \n",
       "86  107206  2021     4  15DEC2021                KUBO CEL, S.A.P.I. DE C.V.   \n",
       "98  501907  2021     4  15DEC2021      VALOR AGREGADO DIGITAL, S.A. DE C.V.   \n",
       "\n",
       "   K_EMPRESA        EMPRESA K_GRUPO          GRUPO I_FIJO_MOVIL  \\\n",
       "20     C0055          AXTEL    G009          AXTEL         Fijo   \n",
       "79     C0629  VIRGIN MOBILE    C629  VIRGIN MOBILE          OMV   \n",
       "86     C0323        QBO CEL    C323        QBO CEL          OMV   \n",
       "98     C0734          VADSA    C734          VADSA         Fijo   \n",
       "\n",
       "    INGRESOS_TOTAL_E  \n",
       "20               NaN  \n",
       "79               NaN  \n",
       "86               NaN  \n",
       "98               NaN  "
      ]
     },
     "execution_count": 6,
     "metadata": {},
     "output_type": "execute_result"
    }
   ],
   "source": [
    "ingresos[ingresos['INGRESOS_TOTAL_E'].isna()==True]"
   ]
  },
  {
   "cell_type": "code",
   "execution_count": 7,
   "id": "8fa12658",
   "metadata": {},
   "outputs": [
    {
     "data": {
      "text/plain": [
       "FOLIO                 int64\n",
       "ANIO                  int64\n",
       "TRIM                  int64\n",
       "FECHA                object\n",
       "CONCESIONARIO        object\n",
       "K_EMPRESA            object\n",
       "EMPRESA              object\n",
       "K_GRUPO              object\n",
       "GRUPO                object\n",
       "I_FIJO_MOVIL         object\n",
       "INGRESOS_TOTAL_E    float64\n",
       "dtype: object"
      ]
     },
     "execution_count": 7,
     "metadata": {},
     "output_type": "execute_result"
    }
   ],
   "source": [
    "ingresos.dtypes"
   ]
  },
  {
   "cell_type": "code",
   "execution_count": 8,
   "id": "a0ab6f45",
   "metadata": {},
   "outputs": [
    {
     "data": {
      "text/html": [
       "<div>\n",
       "<style scoped>\n",
       "    .dataframe tbody tr th:only-of-type {\n",
       "        vertical-align: middle;\n",
       "    }\n",
       "\n",
       "    .dataframe tbody tr th {\n",
       "        vertical-align: top;\n",
       "    }\n",
       "\n",
       "    .dataframe thead th {\n",
       "        text-align: right;\n",
       "    }\n",
       "</style>\n",
       "<table border=\"1\" class=\"dataframe\">\n",
       "  <thead>\n",
       "    <tr style=\"text-align: right;\">\n",
       "      <th></th>\n",
       "      <th>CONCESIONARIO</th>\n",
       "      <th>GRUPO</th>\n",
       "      <th>INGRESOS_TOTAL_E</th>\n",
       "    </tr>\n",
       "  </thead>\n",
       "  <tbody>\n",
       "    <tr>\n",
       "      <th>0</th>\n",
       "      <td>ADOLFO MERINO MEDINA</td>\n",
       "      <td>GRUPO TELEVISA</td>\n",
       "      <td>434431.000000000</td>\n",
       "    </tr>\n",
       "    <tr>\n",
       "      <th>1</th>\n",
       "      <td>AGUSTIN PEREZ VIEYRA</td>\n",
       "      <td>AGUSTIN PEREZ VIEYRA</td>\n",
       "      <td>682018.800000000</td>\n",
       "    </tr>\n",
       "    <tr>\n",
       "      <th>2</th>\n",
       "      <td>ARELY ISABEL GONGORA PECH</td>\n",
       "      <td>ARELY ISABEL GONGORA PECH</td>\n",
       "      <td>1149516.000000000</td>\n",
       "    </tr>\n",
       "    <tr>\n",
       "      <th>3</th>\n",
       "      <td>FRANCISCO GUERRA GARCIA</td>\n",
       "      <td>FRANCISCO GUERRA GARCIA</td>\n",
       "      <td>1947843.000000000</td>\n",
       "    </tr>\n",
       "    <tr>\n",
       "      <th>4</th>\n",
       "      <td>GABRIEL BUTRON CHIAPA</td>\n",
       "      <td>GABRIEL BUTRON CHIAPA</td>\n",
       "      <td>1109813.000000000</td>\n",
       "    </tr>\n",
       "    <tr>\n",
       "      <th>...</th>\n",
       "      <td>...</td>\n",
       "      <td>...</td>\n",
       "      <td>...</td>\n",
       "    </tr>\n",
       "    <tr>\n",
       "      <th>128</th>\n",
       "      <td>CONVERGENCIA Y DESARROLLO DIGITAL, S.A. DE C.V.</td>\n",
       "      <td>RED DOG</td>\n",
       "      <td>1460571.890000000</td>\n",
       "    </tr>\n",
       "    <tr>\n",
       "      <th>129</th>\n",
       "      <td>TELMOV MOVIL, S.A. DE C.V.</td>\n",
       "      <td>TELMOVIL</td>\n",
       "      <td>188109.280000000</td>\n",
       "    </tr>\n",
       "    <tr>\n",
       "      <th>130</th>\n",
       "      <td>MARKETING 358, S.A. DE C.V.</td>\n",
       "      <td>MARKETING 358</td>\n",
       "      <td>1924097.070000000</td>\n",
       "    </tr>\n",
       "    <tr>\n",
       "      <th>131</th>\n",
       "      <td>BROCOMUNICACIONES MOVILES, S.A.P.I. DE C.V.</td>\n",
       "      <td>BROMOVIL</td>\n",
       "      <td>237150.700000000</td>\n",
       "    </tr>\n",
       "    <tr>\n",
       "      <th>132</th>\n",
       "      <td>EDUARDO PEDRERO PEREZ</td>\n",
       "      <td>EDUARDO PEDRERO PEREZ</td>\n",
       "      <td>68200.000000000</td>\n",
       "    </tr>\n",
       "  </tbody>\n",
       "</table>\n",
       "<p>133 rows × 3 columns</p>\n",
       "</div>"
      ],
      "text/plain": [
       "                                       CONCESIONARIO  \\\n",
       "0                               ADOLFO MERINO MEDINA   \n",
       "1                               AGUSTIN PEREZ VIEYRA   \n",
       "2                          ARELY ISABEL GONGORA PECH   \n",
       "3                            FRANCISCO GUERRA GARCIA   \n",
       "4                              GABRIEL BUTRON CHIAPA   \n",
       "..                                               ...   \n",
       "128  CONVERGENCIA Y DESARROLLO DIGITAL, S.A. DE C.V.   \n",
       "129                       TELMOV MOVIL, S.A. DE C.V.   \n",
       "130                      MARKETING 358, S.A. DE C.V.   \n",
       "131      BROCOMUNICACIONES MOVILES, S.A.P.I. DE C.V.   \n",
       "132                            EDUARDO PEDRERO PEREZ   \n",
       "\n",
       "                         GRUPO  INGRESOS_TOTAL_E  \n",
       "0               GRUPO TELEVISA  434431.000000000  \n",
       "1         AGUSTIN PEREZ VIEYRA  682018.800000000  \n",
       "2    ARELY ISABEL GONGORA PECH 1149516.000000000  \n",
       "3      FRANCISCO GUERRA GARCIA 1947843.000000000  \n",
       "4        GABRIEL BUTRON CHIAPA 1109813.000000000  \n",
       "..                         ...               ...  \n",
       "128                    RED DOG 1460571.890000000  \n",
       "129                   TELMOVIL  188109.280000000  \n",
       "130              MARKETING 358 1924097.070000000  \n",
       "131                   BROMOVIL  237150.700000000  \n",
       "132      EDUARDO PEDRERO PEREZ   68200.000000000  \n",
       "\n",
       "[133 rows x 3 columns]"
      ]
     },
     "execution_count": 8,
     "metadata": {},
     "output_type": "execute_result"
    }
   ],
   "source": [
    "ingresos_por_grupo = ingresos[['CONCESIONARIO', 'GRUPO', 'INGRESOS_TOTAL_E']]\n",
    "ingresos_por_grupo"
   ]
  },
  {
   "cell_type": "code",
   "execution_count": 9,
   "id": "bc534e91",
   "metadata": {},
   "outputs": [
    {
     "data": {
      "text/plain": [
       "CONCESIONARIO       0\n",
       "GRUPO               0\n",
       "INGRESOS_TOTAL_E    4\n",
       "dtype: int64"
      ]
     },
     "execution_count": 9,
     "metadata": {},
     "output_type": "execute_result"
    }
   ],
   "source": [
    "ingresos_por_grupo.isna().sum()"
   ]
  },
  {
   "cell_type": "code",
   "execution_count": 10,
   "id": "f85d8721",
   "metadata": {},
   "outputs": [
    {
     "data": {
      "text/plain": [
       "array(['GRUPO TELEVISA', 'AGUSTIN PEREZ VIEYRA',\n",
       "       'ARELY ISABEL GONGORA PECH', 'FRANCISCO GUERRA GARCIA',\n",
       "       'GABRIEL BUTRON CHIAPA', 'GUILLERMO MEDELLIN MILAN',\n",
       "       'GUILLERMO ZARATE GARCIA', 'ISALIA MORENO ZETINA',\n",
       "       'JAIME SANCHEZ SANCHEZ', 'JESUS MIGUEL FERNANDEZ GUERRERO',\n",
       "       'JOSE JULIAN SACRAMENTO GARZA', 'MANUEL LOPEZ AVILA',\n",
       "       'MARCO ANTONIO ROSALES HERRERA', 'ROBERTO LOPEZ BRAVO',\n",
       "       'SARA QUIROZ CHAPA', 'TV-K', 'TELECAB', 'STARGROUP',\n",
       "       'MEGACABLE-MCM', 'TELESISTEMAS PENINSULARES', 'AXTEL', 'GLOBALSAT',\n",
       "       'TELECOM NACIONAL', 'TOTALPLAY', 'HISPASAT', 'AIRECABLE',\n",
       "       'USA TELECOM', 'COMCAB', 'SINOTECA',\n",
       "       'COORDINADORA DE TV POR CABLE', 'TV OJO CALIENTE', 'AMERICA MOVIL',\n",
       "       'TELECABLE DE TICUL', 'EUTELSAT AMERICAS', 'MARCATEL',\n",
       "       'LINK TE CONECTAMOS', 'ELARA COMUNICACIONES',\n",
       "       'CABLEVISION DE APATZINGAN', 'MVS', 'MAXICABLE', 'BT LATAM MEXICO',\n",
       "       'TELECABLE DE COAHUAYANA', 'TELEFONICA', 'OUI',\n",
       "       'VERIZON SERVICIOS EMPRESARIALES MEXICO', 'BBG COMUNICACION',\n",
       "       'SUPERCOM', 'JACE TELECOM', 'SECSA', 'RAVS CABLE', 'HNS DE MEXICO',\n",
       "       'UC TELECOM', 'TRANSTELCO', 'TELECABLE DE AGUILILLA',\n",
       "       'HIPERCABLE DE MONCLOVA', 'TELECABLE DE TEKAX', 'STAR NET',\n",
       "       'TELECABLE DE XALTIANGUIS', 'IST', 'TOKA MOVIL',\n",
       "       'OPERADORA TELEFONICA PENINSULAR', 'VIRGIN MOBILE', 'BUENO CELL',\n",
       "       'IENTC', 'CABLEVISION DE LA HUACANA', 'TELECABLE DE CAMPECHE',\n",
       "       'OTROS', 'TELECABLE DE VILLANUEVA', 'QBO CEL', 'CONCABLETV',\n",
       "       'AT&T', 'TELECABLE MERIDA', 'TVDIG', 'NEXT TELEKOM',\n",
       "       'FLASH MOBILE', 'CABLE SISTEMA DEL CENTRO', 'SIMPATI',\n",
       "       'HERMOVISION', 'SIHI MEXICO', 'COMNET', 'VADSA', 'RBACATV',\n",
       "       'EYCO DE LOS ALTOS', 'FREEDOM', 'ALTAN', 'SIERRA MADRE TELECOM',\n",
       "       'QUATTROCOM', 'NET LINK', 'SISCAB DE MEXICO', 'ESPID',\n",
       "       'TELECABLE DE CUERNAVACA', 'GILAT', 'VASANTA',\n",
       "       'GRUPO CORPORATIVO ZUNUN PAZ', 'INTEGRA COMUNICACIONES',\n",
       "       'CABLEPLAY', 'MUCHOS MEGAS', 'YOBI TELECOM', 'GURUCOMM', 'SISTV',\n",
       "       'CCA', 'TELECABLE DE MARIANO ESCOBEDO', 'ADDINTELI', 'DIRI MOVIL',\n",
       "       'IGOU TELECOM', 'NEWWW', 'WIMOTELECOM', 'WEEX', 'CRO.NET', 'GOBO',\n",
       "       'RED DOG', 'TELMOVIL', 'MARKETING 358', 'BROMOVIL',\n",
       "       'EDUARDO PEDRERO PEREZ'], dtype=object)"
      ]
     },
     "execution_count": 10,
     "metadata": {},
     "output_type": "execute_result"
    }
   ],
   "source": [
    "ingresos_por_grupo['GRUPO'].unique()"
   ]
  },
  {
   "cell_type": "code",
   "execution_count": 11,
   "id": "a8be837d",
   "metadata": {},
   "outputs": [
    {
     "data": {
      "text/html": [
       "<div>\n",
       "<style scoped>\n",
       "    .dataframe tbody tr th:only-of-type {\n",
       "        vertical-align: middle;\n",
       "    }\n",
       "\n",
       "    .dataframe tbody tr th {\n",
       "        vertical-align: top;\n",
       "    }\n",
       "\n",
       "    .dataframe thead th {\n",
       "        text-align: right;\n",
       "    }\n",
       "</style>\n",
       "<table border=\"1\" class=\"dataframe\">\n",
       "  <thead>\n",
       "    <tr style=\"text-align: right;\">\n",
       "      <th></th>\n",
       "      <th>INGRESOS_TOTAL_E</th>\n",
       "    </tr>\n",
       "    <tr>\n",
       "      <th>GRUPO</th>\n",
       "      <th></th>\n",
       "    </tr>\n",
       "  </thead>\n",
       "  <tbody>\n",
       "    <tr>\n",
       "      <th>ADDINTELI</th>\n",
       "      <td>2462635.000000000</td>\n",
       "    </tr>\n",
       "    <tr>\n",
       "      <th>AGUSTIN PEREZ VIEYRA</th>\n",
       "      <td>682018.800000000</td>\n",
       "    </tr>\n",
       "    <tr>\n",
       "      <th>AIRECABLE</th>\n",
       "      <td>3155850.880000000</td>\n",
       "    </tr>\n",
       "    <tr>\n",
       "      <th>ALTAN</th>\n",
       "      <td>862839373.799999952</td>\n",
       "    </tr>\n",
       "    <tr>\n",
       "      <th>AMERICA MOVIL</th>\n",
       "      <td>86559324650.000000000</td>\n",
       "    </tr>\n",
       "    <tr>\n",
       "      <th>...</th>\n",
       "      <td>...</td>\n",
       "    </tr>\n",
       "    <tr>\n",
       "      <th>VERIZON SERVICIOS EMPRESARIALES MEXICO</th>\n",
       "      <td>94305990.109999999</td>\n",
       "    </tr>\n",
       "    <tr>\n",
       "      <th>VIRGIN MOBILE</th>\n",
       "      <td>0.000000000</td>\n",
       "    </tr>\n",
       "    <tr>\n",
       "      <th>WEEX</th>\n",
       "      <td>8026895.340000000</td>\n",
       "    </tr>\n",
       "    <tr>\n",
       "      <th>WIMOTELECOM</th>\n",
       "      <td>90127067.799999997</td>\n",
       "    </tr>\n",
       "    <tr>\n",
       "      <th>YOBI TELECOM</th>\n",
       "      <td>14370517.470000001</td>\n",
       "    </tr>\n",
       "  </tbody>\n",
       "</table>\n",
       "<p>115 rows × 1 columns</p>\n",
       "</div>"
      ],
      "text/plain": [
       "                                            INGRESOS_TOTAL_E\n",
       "GRUPO                                                       \n",
       "ADDINTELI                                  2462635.000000000\n",
       "AGUSTIN PEREZ VIEYRA                        682018.800000000\n",
       "AIRECABLE                                  3155850.880000000\n",
       "ALTAN                                    862839373.799999952\n",
       "AMERICA MOVIL                          86559324650.000000000\n",
       "...                                                      ...\n",
       "VERIZON SERVICIOS EMPRESARIALES MEXICO    94305990.109999999\n",
       "VIRGIN MOBILE                                    0.000000000\n",
       "WEEX                                       8026895.340000000\n",
       "WIMOTELECOM                               90127067.799999997\n",
       "YOBI TELECOM                              14370517.470000001\n",
       "\n",
       "[115 rows x 1 columns]"
      ]
     },
     "execution_count": 11,
     "metadata": {},
     "output_type": "execute_result"
    }
   ],
   "source": [
    "# Agrupados\n",
    "\n",
    "ingresos_agrupados = ingresos_por_grupo.groupby(['GRUPO']).sum()\n",
    "ingresos_agrupados"
   ]
  },
  {
   "cell_type": "code",
   "execution_count": 12,
   "id": "7fd8e04f",
   "metadata": {},
   "outputs": [
    {
     "data": {
      "text/html": [
       "<div>\n",
       "<style scoped>\n",
       "    .dataframe tbody tr th:only-of-type {\n",
       "        vertical-align: middle;\n",
       "    }\n",
       "\n",
       "    .dataframe tbody tr th {\n",
       "        vertical-align: top;\n",
       "    }\n",
       "\n",
       "    .dataframe thead th {\n",
       "        text-align: right;\n",
       "    }\n",
       "</style>\n",
       "<table border=\"1\" class=\"dataframe\">\n",
       "  <thead>\n",
       "    <tr style=\"text-align: right;\">\n",
       "      <th></th>\n",
       "      <th>GRUPO</th>\n",
       "      <th>INGRESOS_TOTAL_E</th>\n",
       "    </tr>\n",
       "  </thead>\n",
       "  <tbody>\n",
       "    <tr>\n",
       "      <th>4</th>\n",
       "      <td>AMERICA MOVIL</td>\n",
       "      <td>86559324650.000000000</td>\n",
       "    </tr>\n",
       "    <tr>\n",
       "      <th>36</th>\n",
       "      <td>GRUPO TELEVISA</td>\n",
       "      <td>18486354922.599998474</td>\n",
       "    </tr>\n",
       "    <tr>\n",
       "      <th>6</th>\n",
       "      <td>AT&amp;T</td>\n",
       "      <td>14680526078.000000000</td>\n",
       "    </tr>\n",
       "    <tr>\n",
       "      <th>97</th>\n",
       "      <td>TELEFONICA</td>\n",
       "      <td>6655353072.000000000</td>\n",
       "    </tr>\n",
       "    <tr>\n",
       "      <th>59</th>\n",
       "      <td>MEGACABLE-MCM</td>\n",
       "      <td>6433334578.199999809</td>\n",
       "    </tr>\n",
       "    <tr>\n",
       "      <th>...</th>\n",
       "      <td>...</td>\n",
       "      <td>...</td>\n",
       "    </tr>\n",
       "    <tr>\n",
       "      <th>18</th>\n",
       "      <td>COMNET</td>\n",
       "      <td>16234.890000000</td>\n",
       "    </tr>\n",
       "    <tr>\n",
       "      <th>68</th>\n",
       "      <td>QBO CEL</td>\n",
       "      <td>0.000000000</td>\n",
       "    </tr>\n",
       "    <tr>\n",
       "      <th>108</th>\n",
       "      <td>VADSA</td>\n",
       "      <td>0.000000000</td>\n",
       "    </tr>\n",
       "    <tr>\n",
       "      <th>111</th>\n",
       "      <td>VIRGIN MOBILE</td>\n",
       "      <td>0.000000000</td>\n",
       "    </tr>\n",
       "    <tr>\n",
       "      <th>7</th>\n",
       "      <td>AXTEL</td>\n",
       "      <td>0.000000000</td>\n",
       "    </tr>\n",
       "  </tbody>\n",
       "</table>\n",
       "<p>115 rows × 2 columns</p>\n",
       "</div>"
      ],
      "text/plain": [
       "              GRUPO      INGRESOS_TOTAL_E\n",
       "4     AMERICA MOVIL 86559324650.000000000\n",
       "36   GRUPO TELEVISA 18486354922.599998474\n",
       "6              AT&T 14680526078.000000000\n",
       "97       TELEFONICA  6655353072.000000000\n",
       "59    MEGACABLE-MCM  6433334578.199999809\n",
       "..              ...                   ...\n",
       "18           COMNET       16234.890000000\n",
       "68          QBO CEL           0.000000000\n",
       "108           VADSA           0.000000000\n",
       "111   VIRGIN MOBILE           0.000000000\n",
       "7             AXTEL           0.000000000\n",
       "\n",
       "[115 rows x 2 columns]"
      ]
     },
     "execution_count": 12,
     "metadata": {},
     "output_type": "execute_result"
    }
   ],
   "source": [
    "ingresos_agrupados = ingresos_agrupados.reset_index().sort_values(by=['INGRESOS_TOTAL_E'], ascending=False)\n",
    "ingresos_agrupados"
   ]
  },
  {
   "cell_type": "code",
   "execution_count": 13,
   "id": "ed2d7a7b",
   "metadata": {},
   "outputs": [
    {
     "data": {
      "text/html": [
       "<div>\n",
       "<style scoped>\n",
       "    .dataframe tbody tr th:only-of-type {\n",
       "        vertical-align: middle;\n",
       "    }\n",
       "\n",
       "    .dataframe tbody tr th {\n",
       "        vertical-align: top;\n",
       "    }\n",
       "\n",
       "    .dataframe thead th {\n",
       "        text-align: right;\n",
       "    }\n",
       "</style>\n",
       "<table border=\"1\" class=\"dataframe\">\n",
       "  <thead>\n",
       "    <tr style=\"text-align: right;\">\n",
       "      <th></th>\n",
       "      <th>GRUPO</th>\n",
       "      <th>INGRESOS_TOTAL_E</th>\n",
       "    </tr>\n",
       "  </thead>\n",
       "  <tbody>\n",
       "    <tr>\n",
       "      <th>4</th>\n",
       "      <td>AMERICA MOVIL</td>\n",
       "      <td>86559324650.000000000</td>\n",
       "    </tr>\n",
       "    <tr>\n",
       "      <th>36</th>\n",
       "      <td>GRUPO TELEVISA</td>\n",
       "      <td>18486354922.599998474</td>\n",
       "    </tr>\n",
       "    <tr>\n",
       "      <th>6</th>\n",
       "      <td>AT&amp;T</td>\n",
       "      <td>14680526078.000000000</td>\n",
       "    </tr>\n",
       "    <tr>\n",
       "      <th>97</th>\n",
       "      <td>TELEFONICA</td>\n",
       "      <td>6655353072.000000000</td>\n",
       "    </tr>\n",
       "    <tr>\n",
       "      <th>59</th>\n",
       "      <td>MEGACABLE-MCM</td>\n",
       "      <td>6433334578.199999809</td>\n",
       "    </tr>\n",
       "    <tr>\n",
       "      <th>...</th>\n",
       "      <td>...</td>\n",
       "      <td>...</td>\n",
       "    </tr>\n",
       "    <tr>\n",
       "      <th>18</th>\n",
       "      <td>COMNET</td>\n",
       "      <td>16234.890000000</td>\n",
       "    </tr>\n",
       "    <tr>\n",
       "      <th>68</th>\n",
       "      <td>QBO CEL</td>\n",
       "      <td>0.000000000</td>\n",
       "    </tr>\n",
       "    <tr>\n",
       "      <th>108</th>\n",
       "      <td>VADSA</td>\n",
       "      <td>0.000000000</td>\n",
       "    </tr>\n",
       "    <tr>\n",
       "      <th>111</th>\n",
       "      <td>VIRGIN MOBILE</td>\n",
       "      <td>0.000000000</td>\n",
       "    </tr>\n",
       "    <tr>\n",
       "      <th>7</th>\n",
       "      <td>AXTEL</td>\n",
       "      <td>0.000000000</td>\n",
       "    </tr>\n",
       "  </tbody>\n",
       "</table>\n",
       "<p>115 rows × 2 columns</p>\n",
       "</div>"
      ],
      "text/plain": [
       "              GRUPO      INGRESOS_TOTAL_E\n",
       "4     AMERICA MOVIL 86559324650.000000000\n",
       "36   GRUPO TELEVISA 18486354922.599998474\n",
       "6              AT&T 14680526078.000000000\n",
       "97       TELEFONICA  6655353072.000000000\n",
       "59    MEGACABLE-MCM  6433334578.199999809\n",
       "..              ...                   ...\n",
       "18           COMNET       16234.890000000\n",
       "68          QBO CEL           0.000000000\n",
       "108           VADSA           0.000000000\n",
       "111   VIRGIN MOBILE           0.000000000\n",
       "7             AXTEL           0.000000000\n",
       "\n",
       "[115 rows x 2 columns]"
      ]
     },
     "execution_count": 13,
     "metadata": {},
     "output_type": "execute_result"
    }
   ],
   "source": [
    "ingresos_agrupados.sort_values(by=['INGRESOS_TOTAL_E'], ascending=False)"
   ]
  },
  {
   "cell_type": "code",
   "execution_count": 14,
   "id": "464f5535",
   "metadata": {},
   "outputs": [
    {
     "data": {
      "text/plain": [
       "GRUPO                object\n",
       "INGRESOS_TOTAL_E    float64\n",
       "dtype: object"
      ]
     },
     "execution_count": 14,
     "metadata": {},
     "output_type": "execute_result"
    }
   ],
   "source": [
    "ingresos_agrupados.dtypes"
   ]
  },
  {
   "cell_type": "code",
   "execution_count": 15,
   "id": "eb0d3309",
   "metadata": {},
   "outputs": [
    {
     "data": {
      "image/png": "[encoded data removed]",
      "text/plain": [
       "<Figure size 432x288 with 1 Axes>"
      ]
     },
     "metadata": {
      "needs_background": "light"
     },
     "output_type": "display_data"
    },
    {
     "name": "stdout",
     "output_type": "stream",
     "text": [
      "NormaltestResult(statistic=233.49963689785488, pvalue=1.9778715539748704e-51)\n"
     ]
    }
   ],
   "source": [
    "plt.hist(ingresos_agrupados['INGRESOS_TOTAL_E'])\n",
    "plt.xlabel('Ingresos ($)')\n",
    "plt.ylabel('Frecuencia absoluta')\n",
    "plt.show()\n",
    "print(sts.normaltest(ingresos_agrupados['INGRESOS_TOTAL_E'])) # no pasa la prueba de normalidad (sesgo)"
   ]
  },
  {
   "cell_type": "code",
   "execution_count": 16,
   "id": "4cad5239",
   "metadata": {},
   "outputs": [
    {
     "data": {
      "text/html": [
       "<div>\n",
       "<style scoped>\n",
       "    .dataframe tbody tr th:only-of-type {\n",
       "        vertical-align: middle;\n",
       "    }\n",
       "\n",
       "    .dataframe tbody tr th {\n",
       "        vertical-align: top;\n",
       "    }\n",
       "\n",
       "    .dataframe thead th {\n",
       "        text-align: right;\n",
       "    }\n",
       "</style>\n",
       "<table border=\"1\" class=\"dataframe\">\n",
       "  <thead>\n",
       "    <tr style=\"text-align: right;\">\n",
       "      <th></th>\n",
       "      <th>GRUPO</th>\n",
       "      <th>INGRESOS_TOTAL_E</th>\n",
       "    </tr>\n",
       "  </thead>\n",
       "  <tbody>\n",
       "    <tr>\n",
       "      <th>4</th>\n",
       "      <td>AMERICA MOVIL</td>\n",
       "      <td>86559324650.000000000</td>\n",
       "    </tr>\n",
       "    <tr>\n",
       "      <th>36</th>\n",
       "      <td>GRUPO TELEVISA</td>\n",
       "      <td>18486354922.599998474</td>\n",
       "    </tr>\n",
       "    <tr>\n",
       "      <th>6</th>\n",
       "      <td>AT&amp;T</td>\n",
       "      <td>14680526078.000000000</td>\n",
       "    </tr>\n",
       "    <tr>\n",
       "      <th>97</th>\n",
       "      <td>TELEFONICA</td>\n",
       "      <td>6655353072.000000000</td>\n",
       "    </tr>\n",
       "    <tr>\n",
       "      <th>59</th>\n",
       "      <td>MEGACABLE-MCM</td>\n",
       "      <td>6433334578.199999809</td>\n",
       "    </tr>\n",
       "    <tr>\n",
       "      <th>...</th>\n",
       "      <td>...</td>\n",
       "      <td>...</td>\n",
       "    </tr>\n",
       "    <tr>\n",
       "      <th>50</th>\n",
       "      <td>JAIME SANCHEZ SANCHEZ</td>\n",
       "      <td>125171.000000000</td>\n",
       "    </tr>\n",
       "    <tr>\n",
       "      <th>35</th>\n",
       "      <td>GRUPO CORPORATIVO ZUNUN PAZ</td>\n",
       "      <td>88182.000000000</td>\n",
       "    </tr>\n",
       "    <tr>\n",
       "      <th>23</th>\n",
       "      <td>EDUARDO PEDRERO PEREZ</td>\n",
       "      <td>68200.000000000</td>\n",
       "    </tr>\n",
       "    <tr>\n",
       "      <th>45</th>\n",
       "      <td>IGOU TELECOM</td>\n",
       "      <td>61997.030000000</td>\n",
       "    </tr>\n",
       "    <tr>\n",
       "      <th>18</th>\n",
       "      <td>COMNET</td>\n",
       "      <td>16234.890000000</td>\n",
       "    </tr>\n",
       "  </tbody>\n",
       "</table>\n",
       "<p>111 rows × 2 columns</p>\n",
       "</div>"
      ],
      "text/plain": [
       "                          GRUPO      INGRESOS_TOTAL_E\n",
       "4                 AMERICA MOVIL 86559324650.000000000\n",
       "36               GRUPO TELEVISA 18486354922.599998474\n",
       "6                          AT&T 14680526078.000000000\n",
       "97                   TELEFONICA  6655353072.000000000\n",
       "59                MEGACABLE-MCM  6433334578.199999809\n",
       "..                          ...                   ...\n",
       "50        JAIME SANCHEZ SANCHEZ      125171.000000000\n",
       "35  GRUPO CORPORATIVO ZUNUN PAZ       88182.000000000\n",
       "23        EDUARDO PEDRERO PEREZ       68200.000000000\n",
       "45                 IGOU TELECOM       61997.030000000\n",
       "18                       COMNET       16234.890000000\n",
       "\n",
       "[111 rows x 2 columns]"
      ]
     },
     "execution_count": 16,
     "metadata": {},
     "output_type": "execute_result"
    }
   ],
   "source": [
    "# cuántos ceros tenemos en las cifras\n",
    "m = ingresos_agrupados[ingresos_agrupados['INGRESOS_TOTAL_E']!=0]\n",
    "\n",
    "ingresos_agrupados_transformables = m\n",
    "\n",
    "ingresos_agrupados_transformables"
   ]
  },
  {
   "cell_type": "code",
   "execution_count": 17,
   "id": "dcd73377",
   "metadata": {},
   "outputs": [
    {
     "data": {
      "image/png": "[encoded data removed]",
      "text/plain": [
       "<Figure size 432x288 with 1 Axes>"
      ]
     },
     "metadata": {
      "needs_background": "light"
     },
     "output_type": "display_data"
    },
    {
     "name": "stdout",
     "output_type": "stream",
     "text": [
      "NormaltestResult(statistic=21.632204966257444, pvalue=2.0073651306486227e-05)\n"
     ]
    }
   ],
   "source": [
    "# Aplicar logarítmos para reducir el efecto de la magnitud de los datos.\n",
    "ln_ingresos = np.log(ingresos_agrupados_transformables['INGRESOS_TOTAL_E']) \n",
    "\n",
    "plt.hist(ln_ingresos)\n",
    "plt.xlabel('Ingresos ($)')\n",
    "plt.ylabel('Frecuencia absoluta')\n",
    "plt.show()\n",
    "print(sts.normaltest(ln_ingresos))"
   ]
  },
  {
   "cell_type": "code",
   "execution_count": 18,
   "id": "0d0640cf",
   "metadata": {},
   "outputs": [
    {
     "name": "stdout",
     "output_type": "stream",
     "text": [
      "La varianza del ln de los ingresos totales en 2021 es de 8.161543088808147\n",
      "Lo que implica $ 3503.5887833098686\n",
      "La desviación estándar del ln de los ingresos totales en 2021 es de 2.8568414532150967\n",
      "Lo que implica $ 17.40646089692635\n"
     ]
    }
   ],
   "source": [
    "# Análisis de varianza\n",
    "var_numpy = np.var(ln_ingresos, ddof = 0)\n",
    "print(f\"La varianza del ln de los ingresos totales en 2021 es de {var_numpy}\")\n",
    "print(f'Lo que implica $ {np.exp(var_numpy)}')\n",
    "\n",
    "sd_numpy = np.std(ln_ingresos,ddof = 0)\n",
    "print(f\"La desviación estándar del ln de los ingresos totales en 2021 es de {sd_numpy}\")\n",
    "print(f'Lo que implica $ {np.exp(sd_numpy)}')"
   ]
  },
  {
   "cell_type": "code",
   "execution_count": 19,
   "id": "ddac4f4a",
   "metadata": {},
   "outputs": [
    {
     "name": "stdout",
     "output_type": "stream",
     "text": [
      "La varianza del ln de los ingresos totales en 2021 es de 6.954432020350234e+19\n",
      "La desviación estándar de los ingresos totales en 2021 es de 8339323725.788701\n"
     ]
    }
   ],
   "source": [
    "var_numpy2 = np.var(ingresos_agrupados['INGRESOS_TOTAL_E'], ddof = 0)\n",
    "print(f\"La varianza del ln de los ingresos totales en 2021 es de {var_numpy2}\")\n",
    "\n",
    "sd_numpy2 = np.std(ingresos_agrupados['INGRESOS_TOTAL_E'],ddof = 0)\n",
    "print(f\"La desviación estándar de los ingresos totales en 2021 es de {sd_numpy2}\")\n"
   ]
  },
  {
   "cell_type": "code",
   "execution_count": 20,
   "id": "3cd83121",
   "metadata": {},
   "outputs": [
    {
     "name": "stdout",
     "output_type": "stream",
     "text": [
      "La media del ln de los ingresos 2021 es de 15.505036713719937\n",
      "Lo que implica una media de $ 5416913.323709276\n"
     ]
    }
   ],
   "source": [
    "# La media\n",
    "media = np.mean(ln_ingresos)\n",
    "print(f\"La media del ln de los ingresos 2021 es de {media}\")\n",
    "print(f'Lo que implica una media de $ {np.exp(media)}')"
   ]
  },
  {
   "cell_type": "code",
   "execution_count": 21,
   "id": "b8e98c7a",
   "metadata": {},
   "outputs": [
    {
     "name": "stdout",
     "output_type": "stream",
     "text": [
      "Casi el 68% de los datos está entre 12.648 y 18.362\n",
      "Lo que implica que el 68% de los operadores tienen ingresos entre 311201.3 y 94289289.95\n",
      "Casi el 95% de los datos está entre 9.791 y 21.219\n",
      "Lo que implica que el 95% de los operadores tienen ingresos entre 17878.49 y 1641242838.53\n",
      "Casi el 99.7% de los datos está entre 6.935 y 24.076\n",
      "Lo que implica que el 99.7% de los operadores tienen ingresos entre 1027.12 y 28568229291.31\n"
     ]
    }
   ],
   "source": [
    "# Calculando la regla de 68-95-99.7 usando la desviación estándar:\n",
    "print(f\"Casi el 68% de los datos está entre {round(media-sd_numpy,3)} y {round(media+sd_numpy,3)}\")\n",
    "print(f'Lo que implica que el 68% de los operadores tienen ingresos entre {round(np.exp(media-sd_numpy),2)} y {round(np.exp(media+sd_numpy),2)}')\n",
    "print(f\"Casi el 95% de los datos está entre {round(media-2*sd_numpy,3)} y {round(media +2*sd_numpy,3)}\")\n",
    "print(f'Lo que implica que el 95% de los operadores tienen ingresos entre {round(np.exp(media-2*sd_numpy),2)} y {round(np.exp(media +2*sd_numpy),2)}')\n",
    "print(f\"Casi el 99.7% de los datos está entre {round(media-3*sd_numpy,3)} y {round(media+3*sd_numpy,3)}\")\n",
    "print(f'Lo que implica que el 99.7% de los operadores tienen ingresos entre {round(np.exp(media-3*sd_numpy),2)} y {round(np.exp(media +3*sd_numpy),2)}')\n"
   ]
  },
  {
   "cell_type": "code",
   "execution_count": 22,
   "id": "30b87a28",
   "metadata": {},
   "outputs": [
    {
     "name": "stdout",
     "output_type": "stream",
     "text": [
      "Los score z es [ 3.38802811e+00  2.84764211e+00  2.76695473e+00  2.49004040e+00\n",
      "  2.47816417e+00  2.46481632e+00  1.89516124e+00  1.77493308e+00\n",
      "  1.53574340e+00  1.26262392e+00  1.17937240e+00  1.16376176e+00\n",
      "  1.12719817e+00  1.11912495e+00  1.08072800e+00  1.00006199e+00\n",
      "  9.84196858e-01  9.38156552e-01  9.26375545e-01  9.01980800e-01\n",
      "  8.73719904e-01  7.68933362e-01  7.43418360e-01  6.34973511e-01\n",
      "  6.20057722e-01  4.94084768e-01  4.86886634e-01  4.82834161e-01\n",
      "  4.35611612e-01  3.54072003e-01  3.41514421e-01  3.33457492e-01\n",
      "  3.33457492e-01  3.24081227e-01  2.82810286e-01  2.45070153e-01\n",
      "  2.23317822e-01  1.83826946e-01  1.37659605e-01  1.25169767e-01\n",
      "  8.98356625e-02  5.53450294e-02  5.02174083e-02  3.22674461e-02\n",
      "  7.68880317e-03  2.83579110e-03  1.43165950e-03 -3.78826762e-02\n",
      " -7.44278824e-02 -9.78433998e-02 -1.15082756e-01 -1.23020783e-01\n",
      " -1.30067312e-01 -1.69401594e-01 -1.76578472e-01 -1.84015421e-01\n",
      " -1.89113751e-01 -2.21709569e-01 -2.23655258e-01 -2.43421878e-01\n",
      " -2.59139898e-01 -2.75932093e-01 -3.07762433e-01 -3.46572798e-01\n",
      " -3.50330078e-01 -3.58019010e-01 -3.62312494e-01 -4.00173536e-01\n",
      " -4.17538581e-01 -4.41814536e-01 -4.44836899e-01 -4.58792731e-01\n",
      " -4.72463603e-01 -5.05755958e-01 -5.11912932e-01 -5.26146500e-01\n",
      " -5.33659776e-01 -5.42622052e-01 -5.43708828e-01 -5.54925658e-01\n",
      " -6.81693941e-01 -6.94767352e-01 -6.97045235e-01 -7.25354993e-01\n",
      " -7.26249577e-01 -7.26249577e-01 -7.70511957e-01 -7.71768209e-01\n",
      " -7.77088597e-01 -7.82900403e-01 -7.94106362e-01 -8.01700490e-01\n",
      " -8.04436466e-01 -8.04737514e-01 -8.14447202e-01 -8.78358998e-01\n",
      " -9.16020685e-01 -9.71138487e-01 -9.74909052e-01 -1.02948778e+00\n",
      " -1.09512050e+00 -1.17621451e+00 -1.19619518e+00 -1.26875474e+00\n",
      " -1.30089248e+00 -1.31879934e+00 -1.31879934e+00 -1.44140956e+00\n",
      " -1.53135445e+00 -1.56473330e+00 -2.03375613e+00]\n"
     ]
    }
   ],
   "source": [
    "# El score z nos dice el número de desviaciones estándar en el que un dato de ingreso está cerca de la media\n",
    "z_scipy = sts.zscore(ln_ingresos)\n",
    "print(f\"Los score z es {z_scipy}\")"
   ]
  },
  {
   "cell_type": "code",
   "execution_count": 23,
   "id": "47b1a669",
   "metadata": {},
   "outputs": [
    {
     "data": {
      "image/png": "[encoded data removed]",
      "text/plain": [
       "<Figure size 720x576 with 1 Axes>"
      ]
     },
     "metadata": {
      "needs_background": "light"
     },
     "output_type": "display_data"
    }
   ],
   "source": [
    "# Prueba de outliers (los grandes operadores)\n",
    "green_diamond = dict(markerfacecolor='g', marker='D')\n",
    "fig1, ax1 = plt.subplots(figsize=(10, 8))\n",
    "ax1.set_title('Ingresos acumulados totales por operador al cierre 2021 (ln)')\n",
    "ax1.set_ylabel('ln(MX$)')\n",
    "ax1.boxplot(ln_ingresos, flierprops=green_diamond, whis=0.75)\n",
    "plt.savefig('criterio_2021.png')\n",
    "plt.show()"
   ]
  },
  {
   "cell_type": "code",
   "execution_count": 24,
   "id": "e8c94f3a",
   "metadata": {},
   "outputs": [
    {
     "data": {
      "image/png": "[encoded data removed]",
      "text/plain": [
       "<Figure size 432x288 with 1 Axes>"
      ]
     },
     "metadata": {
      "needs_background": "light"
     },
     "output_type": "display_data"
    }
   ],
   "source": [
    "# Prueba de outliers (los grandes operadores)\n",
    "\n",
    "fig1, ax1 = plt.subplots()\n",
    "ax1.set_title('Ingresos totales por operador o grupo económico 2021')\n",
    "ax1.set_ylabel('MX$')\n",
    "ax1.boxplot(ingresos_agrupados['INGRESOS_TOTAL_E'])\n",
    "plt.show()"
   ]
  },
  {
   "cell_type": "code",
   "execution_count": 25,
   "id": "c326b6cf",
   "metadata": {},
   "outputs": [
    {
     "name": "stdout",
     "output_type": "stream",
     "text": [
      "El cuartil más bajo de los ingresos es: 13.47325074739342\n",
      "El cuartil más alto de los ingresos es: 16.816963692511443\n",
      "El rango intercuantil de los ingresos es: 3.343712945118023\n",
      "El ingreso medio es: 14.979333832240032 \n",
      "Valores por debajo 10.129537802275397 se consideran datos aberrantes.\n",
      "Valores por encima 20.160676637629464 se consideran datos aberrantes que no son elegibles para el Comité de Pequeños Operadores.\n"
     ]
    }
   ],
   "source": [
    "# Análisis con quartiles y rango intercuantil para efectos de identificar los outliers\n",
    "\n",
    "quartiles = ln_ingresos.quantile([.25,.5,.75])\n",
    "lowerq = quartiles[0.25]\n",
    "upperq = quartiles[0.75]\n",
    "iqr = upperq-lowerq\n",
    "\n",
    "print(f\"El cuartil más bajo de los ingresos es: {lowerq}\")\n",
    "print(f\"El cuartil más alto de los ingresos es: {upperq}\")\n",
    "print(f\"El rango intercuantil de los ingresos es: {iqr}\")\n",
    "print(f\"El ingreso medio es: {quartiles[0.5]} \")\n",
    "\n",
    "\n",
    "lower_bound = lowerq - (1*iqr)\n",
    "upper_bound = upperq + (1*iqr)\n",
    "print(f\"Valores por debajo {lower_bound} se consideran datos aberrantes.\")\n",
    "print(f\"Valores por encima {upper_bound} se consideran datos aberrantes que no son elegibles para el Comité de Pequeños Operadores.\")\n",
    "\n"
   ]
  },
  {
   "cell_type": "code",
   "execution_count": 26,
   "id": "fa6f445f",
   "metadata": {},
   "outputs": [
    {
     "name": "stdout",
     "output_type": "stream",
     "text": [
      "Los ingresos extremadamente grandes son aquellos que son mayores o iguales a $ 569732002.7588253\n"
     ]
    }
   ],
   "source": [
    "print(f'Los ingresos extremadamente grandes son aquellos que son mayores o iguales a $ {np.exp(upper_bound)}')"
   ]
  },
  {
   "cell_type": "code",
   "execution_count": 32,
   "id": "3291e7e6",
   "metadata": {
    "scrolled": true
   },
   "outputs": [
    {
     "data": {
      "text/html": [
       "<div>\n",
       "<style scoped>\n",
       "    .dataframe tbody tr th:only-of-type {\n",
       "        vertical-align: middle;\n",
       "    }\n",
       "\n",
       "    .dataframe tbody tr th {\n",
       "        vertical-align: top;\n",
       "    }\n",
       "\n",
       "    .dataframe thead th {\n",
       "        text-align: right;\n",
       "    }\n",
       "</style>\n",
       "<table border=\"1\" class=\"dataframe\">\n",
       "  <thead>\n",
       "    <tr style=\"text-align: right;\">\n",
       "      <th></th>\n",
       "      <th>GRUPO</th>\n",
       "      <th>INGRESOS_TOTAL_E</th>\n",
       "    </tr>\n",
       "  </thead>\n",
       "  <tbody>\n",
       "    <tr>\n",
       "      <th>83</th>\n",
       "      <td>STARGROUP</td>\n",
       "      <td>435677179.000000000</td>\n",
       "    </tr>\n",
       "    <tr>\n",
       "      <th>55</th>\n",
       "      <td>MARCATEL</td>\n",
       "      <td>199665310.599999994</td>\n",
       "    </tr>\n",
       "    <tr>\n",
       "      <th>102</th>\n",
       "      <td>TRANSTELCO</td>\n",
       "      <td>157402483.000000000</td>\n",
       "    </tr>\n",
       "    <tr>\n",
       "      <th>67</th>\n",
       "      <td>OUI</td>\n",
       "      <td>150537012.199999988</td>\n",
       "    </tr>\n",
       "    <tr>\n",
       "      <th>43</th>\n",
       "      <td>HNS DE MEXICO</td>\n",
       "      <td>135605863.400000006</td>\n",
       "    </tr>\n",
       "    <tr>\n",
       "      <th>...</th>\n",
       "      <td>...</td>\n",
       "      <td>...</td>\n",
       "    </tr>\n",
       "    <tr>\n",
       "      <th>50</th>\n",
       "      <td>JAIME SANCHEZ SANCHEZ</td>\n",
       "      <td>125171.000000000</td>\n",
       "    </tr>\n",
       "    <tr>\n",
       "      <th>35</th>\n",
       "      <td>GRUPO CORPORATIVO ZUNUN PAZ</td>\n",
       "      <td>88182.000000000</td>\n",
       "    </tr>\n",
       "    <tr>\n",
       "      <th>23</th>\n",
       "      <td>EDUARDO PEDRERO PEREZ</td>\n",
       "      <td>68200.000000000</td>\n",
       "    </tr>\n",
       "    <tr>\n",
       "      <th>45</th>\n",
       "      <td>IGOU TELECOM</td>\n",
       "      <td>61997.030000000</td>\n",
       "    </tr>\n",
       "    <tr>\n",
       "      <th>18</th>\n",
       "      <td>COMNET</td>\n",
       "      <td>16234.890000000</td>\n",
       "    </tr>\n",
       "  </tbody>\n",
       "</table>\n",
       "<p>103 rows × 2 columns</p>\n",
       "</div>"
      ],
      "text/plain": [
       "                           GRUPO    INGRESOS_TOTAL_E\n",
       "83                     STARGROUP 435677179.000000000\n",
       "55                      MARCATEL 199665310.599999994\n",
       "102                   TRANSTELCO 157402483.000000000\n",
       "67                           OUI 150537012.199999988\n",
       "43                 HNS DE MEXICO 135605863.400000006\n",
       "..                           ...                 ...\n",
       "50         JAIME SANCHEZ SANCHEZ    125171.000000000\n",
       "35   GRUPO CORPORATIVO ZUNUN PAZ     88182.000000000\n",
       "23         EDUARDO PEDRERO PEREZ     68200.000000000\n",
       "45                  IGOU TELECOM     61997.030000000\n",
       "18                        COMNET     16234.890000000\n",
       "\n",
       "[103 rows x 2 columns]"
      ]
     },
     "execution_count": 32,
     "metadata": {},
     "output_type": "execute_result"
    }
   ],
   "source": [
    "# de la lista de operadores que tienen un ingreso menor al upper bound son:\n",
    "\n",
    "# Los que quedan dentro del CPO\n",
    "cpo = ingresos_agrupados_transformables[ingresos_agrupados_transformables['INGRESOS_TOTAL_E']<=569732002.7588253].sort_values(by=['INGRESOS_TOTAL_E'], ascending=False)\n",
    "cpo"
   ]
  },
  {
   "cell_type": "code",
   "execution_count": 28,
   "id": "0fe63ebb",
   "metadata": {},
   "outputs": [
    {
     "data": {
      "text/plain": [
       "103"
      ]
     },
     "execution_count": 28,
     "metadata": {},
     "output_type": "execute_result"
    }
   ],
   "source": [
    "len(cpo['GRUPO'])"
   ]
  },
  {
   "cell_type": "code",
   "execution_count": 33,
   "id": "893c74b8",
   "metadata": {},
   "outputs": [
    {
     "data": {
      "text/html": [
       "<div>\n",
       "<style scoped>\n",
       "    .dataframe tbody tr th:only-of-type {\n",
       "        vertical-align: middle;\n",
       "    }\n",
       "\n",
       "    .dataframe tbody tr th {\n",
       "        vertical-align: top;\n",
       "    }\n",
       "\n",
       "    .dataframe thead th {\n",
       "        text-align: right;\n",
       "    }\n",
       "</style>\n",
       "<table border=\"1\" class=\"dataframe\">\n",
       "  <thead>\n",
       "    <tr style=\"text-align: right;\">\n",
       "      <th></th>\n",
       "      <th>GRUPO</th>\n",
       "      <th>INGRESOS_TOTAL_E</th>\n",
       "    </tr>\n",
       "  </thead>\n",
       "  <tbody>\n",
       "    <tr>\n",
       "      <th>4</th>\n",
       "      <td>AMERICA MOVIL</td>\n",
       "      <td>86559324650.000000000</td>\n",
       "    </tr>\n",
       "    <tr>\n",
       "      <th>36</th>\n",
       "      <td>GRUPO TELEVISA</td>\n",
       "      <td>18486354922.599998474</td>\n",
       "    </tr>\n",
       "    <tr>\n",
       "      <th>6</th>\n",
       "      <td>AT&amp;T</td>\n",
       "      <td>14680526078.000000000</td>\n",
       "    </tr>\n",
       "    <tr>\n",
       "      <th>97</th>\n",
       "      <td>TELEFONICA</td>\n",
       "      <td>6655353072.000000000</td>\n",
       "    </tr>\n",
       "    <tr>\n",
       "      <th>59</th>\n",
       "      <td>MEGACABLE-MCM</td>\n",
       "      <td>6433334578.199999809</td>\n",
       "    </tr>\n",
       "    <tr>\n",
       "      <th>101</th>\n",
       "      <td>TOTALPLAY</td>\n",
       "      <td>6192632691.000000000</td>\n",
       "    </tr>\n",
       "    <tr>\n",
       "      <th>61</th>\n",
       "      <td>MVS</td>\n",
       "      <td>1216461308.150000095</td>\n",
       "    </tr>\n",
       "    <tr>\n",
       "      <th>3</th>\n",
       "      <td>ALTAN</td>\n",
       "      <td>862839373.799999952</td>\n",
       "    </tr>\n",
       "  </tbody>\n",
       "</table>\n",
       "</div>"
      ],
      "text/plain": [
       "              GRUPO      INGRESOS_TOTAL_E\n",
       "4     AMERICA MOVIL 86559324650.000000000\n",
       "36   GRUPO TELEVISA 18486354922.599998474\n",
       "6              AT&T 14680526078.000000000\n",
       "97       TELEFONICA  6655353072.000000000\n",
       "59    MEGACABLE-MCM  6433334578.199999809\n",
       "101       TOTALPLAY  6192632691.000000000\n",
       "61              MVS  1216461308.150000095\n",
       "3             ALTAN   862839373.799999952"
      ]
     },
     "execution_count": 33,
     "metadata": {},
     "output_type": "execute_result"
    }
   ],
   "source": [
    "no_cpo = ingresos_agrupados_transformables[ingresos_agrupados_transformables['INGRESOS_TOTAL_E']>569732002.7588253].sort_values(by=['INGRESOS_TOTAL_E'], ascending=False)\n",
    "no_cpo"
   ]
  },
  {
   "cell_type": "code",
   "execution_count": 30,
   "id": "2e110efb",
   "metadata": {},
   "outputs": [
    {
     "name": "stdout",
     "output_type": "stream",
     "text": [
      "El monto que separa al operador que tiene el mayor ingreso y que es elegible para pertencer al CPO y el que tiene el ingreso más bajo en cuanto a los descartados es de $427162194.79999995\n"
     ]
    }
   ],
   "source": [
    "# Gap entre el mejor ingreso en los CPO y el peor ingreso en los que son descartados de pertenecer a los CPO.\n",
    "\n",
    "#brecha_ingreso = \n",
    "brecha_ingreso = no_cpo[\"INGRESOS_TOTAL_E\"].min() - cpo[\"INGRESOS_TOTAL_E\"].max()\n",
    "print(f'El monto que separa al operador que tiene el mayor ingreso y que es elegible para pertencer al CPO y el que tiene el ingreso más bajo en cuanto a los descartados es de ${brecha_ingreso}')"
   ]
  },
  {
   "cell_type": "code",
   "execution_count": 31,
   "id": "660ed290",
   "metadata": {},
   "outputs": [
    {
     "name": "stdout",
     "output_type": "stream",
     "text": [
      "Esta brecha esuivale al 78.85712199424619 veces de la media de la distribución\n"
     ]
    }
   ],
   "source": [
    "print(f'Esta brecha equivale al {(brecha_ingreso/np.exp(media))} veces de la media de la distribución')"
   ]
  },
  {
   "cell_type": "markdown",
   "id": "bd008ac7",
   "metadata": {},
   "source": [
    "# ¿Qué empresas son las elegibles en el conjunto de información disponible en el BIT-IFT?"
   ]
  },
  {
   "cell_type": "code",
   "execution_count": null,
   "id": "d7b88bf5",
   "metadata": {},
   "outputs": [],
   "source": []
  },
  {
   "cell_type": "code",
   "execution_count": null,
   "id": "8040fe5d",
   "metadata": {},
   "outputs": [],
   "source": []
  },
  {
   "cell_type": "code",
   "execution_count": null,
   "id": "c63184e3",
   "metadata": {},
   "outputs": [],
   "source": []
  },
  {
   "cell_type": "code",
   "execution_count": null,
   "id": "bf0c2ad5",
   "metadata": {},
   "outputs": [],
   "source": []
  }
 ],
 "metadata": {
  "kernelspec": {
   "display_name": "Python 3",
   "language": "python",
   "name": "python3"
  },
  "language_info": {
   "codemirror_mode": {
    "name": "ipython",
    "version": 3
   },
   "file_extension": ".py",
   "mimetype": "text/x-python",
   "name": "python",
   "nbconvert_exporter": "python",
   "pygments_lexer": "ipython3",
   "version": "3.8.8"
  }
 },
 "nbformat": 4,
 "nbformat_minor": 5
}
