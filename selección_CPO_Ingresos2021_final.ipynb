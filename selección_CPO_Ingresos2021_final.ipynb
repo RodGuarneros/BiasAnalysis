{
 "cells": [
  {
   "cell_type": "code",
   "execution_count": 1,
   "id": "d8a89004",
   "metadata": {},
   "outputs": [],
   "source": [
    "import pandas as pd\n",
    "import numpy as np\n",
    "import matplotlib.pyplot as plt\n",
    "import scipy.stats as sts\n",
    "import dataframe_image as dfi\n",
    "import math"
   ]
  },
  {
   "cell_type": "code",
   "execution_count": 2,
   "id": "ada02fbe",
   "metadata": {},
   "outputs": [],
   "source": [
    "pd.set_option('display.float_format', lambda x: '%.9f' % x)"
   ]
  },
  {
   "cell_type": "code",
   "execution_count": 3,
   "id": "87441561",
   "metadata": {},
   "outputs": [
    {
     "data": {
      "text/html": [
       "<div>\n",
       "<style scoped>\n",
       "    .dataframe tbody tr th:only-of-type {\n",
       "        vertical-align: middle;\n",
       "    }\n",
       "\n",
       "    .dataframe tbody tr th {\n",
       "        vertical-align: top;\n",
       "    }\n",
       "\n",
       "    .dataframe thead th {\n",
       "        text-align: right;\n",
       "    }\n",
       "</style>\n",
       "<table border=\"1\" class=\"dataframe\">\n",
       "  <thead>\n",
       "    <tr style=\"text-align: right;\">\n",
       "      <th></th>\n",
       "      <th>FOLIO</th>\n",
       "      <th>ANIO</th>\n",
       "      <th>TRIM</th>\n",
       "      <th>FECHA</th>\n",
       "      <th>CONCESIONARIO</th>\n",
       "      <th>K_EMPRESA</th>\n",
       "      <th>EMPRESA</th>\n",
       "      <th>K_GRUPO</th>\n",
       "      <th>GRUPO</th>\n",
       "      <th>I_FIJO_MOVIL</th>\n",
       "      <th>INGRESOS_TOTAL_E</th>\n",
       "    </tr>\n",
       "  </thead>\n",
       "  <tbody>\n",
       "    <tr>\n",
       "      <th>0</th>\n",
       "      <td>100028</td>\n",
       "      <td>2021</td>\n",
       "      <td>4</td>\n",
       "      <td>15DEC2021</td>\n",
       "      <td>ADOLFO MERINO MEDINA</td>\n",
       "      <td>C0089</td>\n",
       "      <td>CABLEMAS</td>\n",
       "      <td>G004</td>\n",
       "      <td>GRUPO TELEVISA</td>\n",
       "      <td>Fijo</td>\n",
       "      <td>434431.000000000</td>\n",
       "    </tr>\n",
       "    <tr>\n",
       "      <th>1</th>\n",
       "      <td>100029</td>\n",
       "      <td>2021</td>\n",
       "      <td>4</td>\n",
       "      <td>15DEC2021</td>\n",
       "      <td>AGUSTIN PEREZ VIEYRA</td>\n",
       "      <td>C0009</td>\n",
       "      <td>AGUSTIN PEREZ VIEYRA</td>\n",
       "      <td>C009</td>\n",
       "      <td>AGUSTIN PEREZ VIEYRA</td>\n",
       "      <td>Fijo</td>\n",
       "      <td>682018.800000000</td>\n",
       "    </tr>\n",
       "    <tr>\n",
       "      <th>2</th>\n",
       "      <td>100065</td>\n",
       "      <td>2021</td>\n",
       "      <td>4</td>\n",
       "      <td>15DEC2021</td>\n",
       "      <td>ARELY ISABEL GONGORA PECH</td>\n",
       "      <td>C0046</td>\n",
       "      <td>ARELY ISABEL GONGORA PECH</td>\n",
       "      <td>C046</td>\n",
       "      <td>ARELY ISABEL GONGORA PECH</td>\n",
       "      <td>Fijo</td>\n",
       "      <td>1149516.000000000</td>\n",
       "    </tr>\n",
       "    <tr>\n",
       "      <th>3</th>\n",
       "      <td>100142</td>\n",
       "      <td>2021</td>\n",
       "      <td>4</td>\n",
       "      <td>15DEC2021</td>\n",
       "      <td>FRANCISCO GUERRA GARCIA</td>\n",
       "      <td>C0666</td>\n",
       "      <td>FRANCISCO GUERRA GARCIA</td>\n",
       "      <td>C666</td>\n",
       "      <td>FRANCISCO GUERRA GARCIA</td>\n",
       "      <td>FIJO</td>\n",
       "      <td>1947843.000000000</td>\n",
       "    </tr>\n",
       "    <tr>\n",
       "      <th>4</th>\n",
       "      <td>100147</td>\n",
       "      <td>2021</td>\n",
       "      <td>4</td>\n",
       "      <td>15DEC2021</td>\n",
       "      <td>GABRIEL BUTRON CHIAPA</td>\n",
       "      <td>C0199</td>\n",
       "      <td>GABRIEL BUTRON CHIAPA</td>\n",
       "      <td>C199</td>\n",
       "      <td>GABRIEL BUTRON CHIAPA</td>\n",
       "      <td>Fijo</td>\n",
       "      <td>1109813.000000000</td>\n",
       "    </tr>\n",
       "    <tr>\n",
       "      <th>...</th>\n",
       "      <td>...</td>\n",
       "      <td>...</td>\n",
       "      <td>...</td>\n",
       "      <td>...</td>\n",
       "      <td>...</td>\n",
       "      <td>...</td>\n",
       "      <td>...</td>\n",
       "      <td>...</td>\n",
       "      <td>...</td>\n",
       "      <td>...</td>\n",
       "      <td>...</td>\n",
       "    </tr>\n",
       "    <tr>\n",
       "      <th>128</th>\n",
       "      <td>519163</td>\n",
       "      <td>2021</td>\n",
       "      <td>4</td>\n",
       "      <td>15DEC2021</td>\n",
       "      <td>CONVERGENCIA Y DESARROLLO DIGITAL, S.A. DE C.V.</td>\n",
       "      <td>C0807</td>\n",
       "      <td>RED DOG</td>\n",
       "      <td>C807</td>\n",
       "      <td>RED DOG</td>\n",
       "      <td>Fijo y OMV</td>\n",
       "      <td>1460571.890000000</td>\n",
       "    </tr>\n",
       "    <tr>\n",
       "      <th>129</th>\n",
       "      <td>519208</td>\n",
       "      <td>2021</td>\n",
       "      <td>4</td>\n",
       "      <td>15DEC2021</td>\n",
       "      <td>TELMOV MOVIL, S.A. DE C.V.</td>\n",
       "      <td>C0080</td>\n",
       "      <td>TELMOVIL</td>\n",
       "      <td>C080</td>\n",
       "      <td>TELMOVIL</td>\n",
       "      <td>OMV</td>\n",
       "      <td>188109.280000000</td>\n",
       "    </tr>\n",
       "    <tr>\n",
       "      <th>130</th>\n",
       "      <td>519363</td>\n",
       "      <td>2021</td>\n",
       "      <td>4</td>\n",
       "      <td>15DEC2021</td>\n",
       "      <td>MARKETING 358, S.A. DE C.V.</td>\n",
       "      <td>C0473</td>\n",
       "      <td>MARKETING 358</td>\n",
       "      <td>C473</td>\n",
       "      <td>MARKETING 358</td>\n",
       "      <td>OMV</td>\n",
       "      <td>1924097.070000000</td>\n",
       "    </tr>\n",
       "    <tr>\n",
       "      <th>131</th>\n",
       "      <td>519422</td>\n",
       "      <td>2021</td>\n",
       "      <td>4</td>\n",
       "      <td>15DEC2021</td>\n",
       "      <td>BROCOMUNICACIONES MOVILES, S.A.P.I. DE C.V.</td>\n",
       "      <td>C0511</td>\n",
       "      <td>BROMOVIL</td>\n",
       "      <td>C511</td>\n",
       "      <td>BROMOVIL</td>\n",
       "      <td>OMV</td>\n",
       "      <td>237150.700000000</td>\n",
       "    </tr>\n",
       "    <tr>\n",
       "      <th>132</th>\n",
       "      <td>519694</td>\n",
       "      <td>2021</td>\n",
       "      <td>4</td>\n",
       "      <td>15DEC2021</td>\n",
       "      <td>EDUARDO PEDRERO PEREZ</td>\n",
       "      <td>C0825</td>\n",
       "      <td>EDUARDO PEDRERO PEREZ</td>\n",
       "      <td>C825</td>\n",
       "      <td>EDUARDO PEDRERO PEREZ</td>\n",
       "      <td>FIJO</td>\n",
       "      <td>68200.000000000</td>\n",
       "    </tr>\n",
       "  </tbody>\n",
       "</table>\n",
       "<p>133 rows × 11 columns</p>\n",
       "</div>"
      ],
      "text/plain": [
       "      FOLIO  ANIO  TRIM      FECHA  \\\n",
       "0    100028  2021     4  15DEC2021   \n",
       "1    100029  2021     4  15DEC2021   \n",
       "2    100065  2021     4  15DEC2021   \n",
       "3    100142  2021     4  15DEC2021   \n",
       "4    100147  2021     4  15DEC2021   \n",
       "..      ...   ...   ...        ...   \n",
       "128  519163  2021     4  15DEC2021   \n",
       "129  519208  2021     4  15DEC2021   \n",
       "130  519363  2021     4  15DEC2021   \n",
       "131  519422  2021     4  15DEC2021   \n",
       "132  519694  2021     4  15DEC2021   \n",
       "\n",
       "                                       CONCESIONARIO K_EMPRESA  \\\n",
       "0                               ADOLFO MERINO MEDINA     C0089   \n",
       "1                               AGUSTIN PEREZ VIEYRA     C0009   \n",
       "2                          ARELY ISABEL GONGORA PECH     C0046   \n",
       "3                            FRANCISCO GUERRA GARCIA     C0666   \n",
       "4                              GABRIEL BUTRON CHIAPA     C0199   \n",
       "..                                               ...       ...   \n",
       "128  CONVERGENCIA Y DESARROLLO DIGITAL, S.A. DE C.V.     C0807   \n",
       "129                       TELMOV MOVIL, S.A. DE C.V.     C0080   \n",
       "130                      MARKETING 358, S.A. DE C.V.     C0473   \n",
       "131      BROCOMUNICACIONES MOVILES, S.A.P.I. DE C.V.     C0511   \n",
       "132                            EDUARDO PEDRERO PEREZ     C0825   \n",
       "\n",
       "                       EMPRESA K_GRUPO                      GRUPO  \\\n",
       "0                     CABLEMAS    G004             GRUPO TELEVISA   \n",
       "1         AGUSTIN PEREZ VIEYRA    C009       AGUSTIN PEREZ VIEYRA   \n",
       "2    ARELY ISABEL GONGORA PECH    C046  ARELY ISABEL GONGORA PECH   \n",
       "3      FRANCISCO GUERRA GARCIA    C666    FRANCISCO GUERRA GARCIA   \n",
       "4        GABRIEL BUTRON CHIAPA    C199      GABRIEL BUTRON CHIAPA   \n",
       "..                         ...     ...                        ...   \n",
       "128                    RED DOG    C807                    RED DOG   \n",
       "129                   TELMOVIL    C080                   TELMOVIL   \n",
       "130              MARKETING 358    C473              MARKETING 358   \n",
       "131                   BROMOVIL    C511                   BROMOVIL   \n",
       "132      EDUARDO PEDRERO PEREZ    C825      EDUARDO PEDRERO PEREZ   \n",
       "\n",
       "    I_FIJO_MOVIL  INGRESOS_TOTAL_E  \n",
       "0           Fijo  434431.000000000  \n",
       "1           Fijo  682018.800000000  \n",
       "2           Fijo 1149516.000000000  \n",
       "3           FIJO 1947843.000000000  \n",
       "4           Fijo 1109813.000000000  \n",
       "..           ...               ...  \n",
       "128   Fijo y OMV 1460571.890000000  \n",
       "129          OMV  188109.280000000  \n",
       "130          OMV 1924097.070000000  \n",
       "131          OMV  237150.700000000  \n",
       "132         FIJO   68200.000000000  \n",
       "\n",
       "[133 rows x 11 columns]"
      ]
     },
     "execution_count": 3,
     "metadata": {},
     "output_type": "execute_result"
    }
   ],
   "source": [
    "# Es importante mencionar que esta base de datos proviene de la última actualización en el Banco de Información de Telecomunicaciones\n",
    "# del IFT, consultado el 19 de agosto de 2022. \n",
    "# Por este motivo se incluye en este repositorio esa versión de la base de datos a efectos de que si desea replicar el \n",
    "# resultado, lo haga con este conjunto de datos, toda vez que la información en el BIT podría variar sin previo aviso.\n",
    "\n",
    "ingresos = pd.read_csv('ingresos_2021.csv', encoding ='utf-8')\n",
    "ingresos"
   ]
  },
  {
   "cell_type": "code",
   "execution_count": 4,
   "id": "7731b086",
   "metadata": {},
   "outputs": [
    {
     "data": {
      "text/plain": [
       "array(['GRUPO TELEVISA', 'AGUSTIN PEREZ VIEYRA',\n",
       "       'ARELY ISABEL GONGORA PECH', 'FRANCISCO GUERRA GARCIA',\n",
       "       'GABRIEL BUTRON CHIAPA', 'GUILLERMO MEDELLIN MILAN',\n",
       "       'GUILLERMO ZARATE GARCIA', 'ISALIA MORENO ZETINA',\n",
       "       'JAIME SANCHEZ SANCHEZ', 'JESUS MIGUEL FERNANDEZ GUERRERO',\n",
       "       'JOSE JULIAN SACRAMENTO GARZA', 'MANUEL LOPEZ AVILA',\n",
       "       'MARCO ANTONIO ROSALES HERRERA', 'ROBERTO LOPEZ BRAVO',\n",
       "       'SARA QUIROZ CHAPA', 'TV-K', 'TELECAB', 'STARGROUP',\n",
       "       'MEGACABLE-MCM', 'TELESISTEMAS PENINSULARES', 'AXTEL', 'GLOBALSAT',\n",
       "       'TELECOM NACIONAL', 'TOTALPLAY', 'AXESAT', 'AIRECABLE',\n",
       "       'USA TELECOM', 'COMCAB', 'SINOTECA',\n",
       "       'COORDINADORA DE TV POR CABLE', 'TV OJO CALIENTE',\n",
       "       'GTAC REDES DE FIBRA OPTICA', 'AMERICA MOVIL',\n",
       "       'TELECABLE DE TICUL', 'EUTELSAT AMERICAS', 'MARCATEL',\n",
       "       'LINK TE CONECTAMOS', 'HISPASAT', 'ELARA COMUNICACIONES',\n",
       "       'CABLEVISION DE APATZINGAN', 'DISH-MVS', 'MAXICABLE',\n",
       "       'BT LATAM MEXICO', 'TELECABLE DE COAHUAYANA', 'TELEFONICA', 'OUI',\n",
       "       'VERIZON SERVICIOS EMPRESARIALES MEXICO', 'BBG COMUNICACION',\n",
       "       'MVSTV', 'SUPERCOM', 'JACE TELECOM', 'SECSA', 'RAVS CABLE',\n",
       "       'HNS DE MEXICO', 'UC TELECOM', 'MAXCOM', 'TELECABLE DE AGUILILLA',\n",
       "       'HIPERCABLE DE MONCLOVA', 'TELECABLE DE TEKAX', 'STAR NET',\n",
       "       'TELECABLE DE XALTIANGUIS', 'IST', 'TOKA MOVIL',\n",
       "       'OPERADORA TELEFONICA PENINSULAR', 'VIRGIN MOBILE', 'BUENO CELL',\n",
       "       'IENTC', 'CABLEVISION DE LA HUACANA', 'TELECABLE DE CAMPECHE',\n",
       "       'OTROS', 'TELECABLE DE VILLANUEVA', 'QBO CEL', 'CONCABLETV',\n",
       "       'AT&T', 'TELECABLE MERIDA', 'TVDIG', 'NEXT TELEKOM',\n",
       "       'FLASH MOBILE', 'CABLE SISTEMA DEL CENTRO', 'SIMPATI',\n",
       "       'HERMOVISION', 'SIHI MEXICO', 'COMNET', 'VADSA', 'RBACATV',\n",
       "       'EYCO DE LOS ALTOS', 'FREEDOM', 'ALTAN', 'SIERRA MADRE TELECOM',\n",
       "       'QUATTROCOM', 'NET LINK', 'SISCAB DE MEXICO', 'ESPID',\n",
       "       'TELECABLE DE CUERNAVACA', 'GILAT', 'VASANTA',\n",
       "       'GRUPO CORPORATIVO ZUNUN PAZ', 'INTEGRA COMUNICACIONES',\n",
       "       'CABLEPLAY', 'MUCHOS MEGAS', 'YOBI TELECOM', 'GURUCOMM', 'SISTV',\n",
       "       'CCA', 'TELECABLE DE MARIANO ESCOBEDO', 'ADDINTELI', 'DIRI MOVIL',\n",
       "       'IGOU TELECOM', 'NEWWW', 'WIMOTELECOM', 'WEEX', 'CRO.NET', 'GOBO',\n",
       "       'RED DOG', 'TELMOVIL', 'MARKETING 358', 'BROMOVIL',\n",
       "       'EDUARDO PEDRERO PEREZ'], dtype=object)"
      ]
     },
     "execution_count": 4,
     "metadata": {},
     "output_type": "execute_result"
    }
   ],
   "source": [
    "ingresos['GRUPO'].unique()"
   ]
  },
  {
   "cell_type": "code",
   "execution_count": 5,
   "id": "8fa12658",
   "metadata": {},
   "outputs": [
    {
     "data": {
      "text/plain": [
       "FOLIO                 int64\n",
       "ANIO                  int64\n",
       "TRIM                  int64\n",
       "FECHA                object\n",
       "CONCESIONARIO        object\n",
       "K_EMPRESA            object\n",
       "EMPRESA              object\n",
       "K_GRUPO              object\n",
       "GRUPO                object\n",
       "I_FIJO_MOVIL         object\n",
       "INGRESOS_TOTAL_E    float64\n",
       "dtype: object"
      ]
     },
     "execution_count": 5,
     "metadata": {},
     "output_type": "execute_result"
    }
   ],
   "source": [
    "ingresos.dtypes"
   ]
  },
  {
   "cell_type": "code",
   "execution_count": 6,
   "id": "a0ab6f45",
   "metadata": {},
   "outputs": [
    {
     "data": {
      "text/html": [
       "<div>\n",
       "<style scoped>\n",
       "    .dataframe tbody tr th:only-of-type {\n",
       "        vertical-align: middle;\n",
       "    }\n",
       "\n",
       "    .dataframe tbody tr th {\n",
       "        vertical-align: top;\n",
       "    }\n",
       "\n",
       "    .dataframe thead th {\n",
       "        text-align: right;\n",
       "    }\n",
       "</style>\n",
       "<table border=\"1\" class=\"dataframe\">\n",
       "  <thead>\n",
       "    <tr style=\"text-align: right;\">\n",
       "      <th></th>\n",
       "      <th>CONCESIONARIO</th>\n",
       "      <th>GRUPO</th>\n",
       "      <th>INGRESOS_TOTAL_E</th>\n",
       "    </tr>\n",
       "  </thead>\n",
       "  <tbody>\n",
       "    <tr>\n",
       "      <th>0</th>\n",
       "      <td>ADOLFO MERINO MEDINA</td>\n",
       "      <td>GRUPO TELEVISA</td>\n",
       "      <td>434431.000000000</td>\n",
       "    </tr>\n",
       "    <tr>\n",
       "      <th>1</th>\n",
       "      <td>AGUSTIN PEREZ VIEYRA</td>\n",
       "      <td>AGUSTIN PEREZ VIEYRA</td>\n",
       "      <td>682018.800000000</td>\n",
       "    </tr>\n",
       "    <tr>\n",
       "      <th>2</th>\n",
       "      <td>ARELY ISABEL GONGORA PECH</td>\n",
       "      <td>ARELY ISABEL GONGORA PECH</td>\n",
       "      <td>1149516.000000000</td>\n",
       "    </tr>\n",
       "    <tr>\n",
       "      <th>3</th>\n",
       "      <td>FRANCISCO GUERRA GARCIA</td>\n",
       "      <td>FRANCISCO GUERRA GARCIA</td>\n",
       "      <td>1947843.000000000</td>\n",
       "    </tr>\n",
       "    <tr>\n",
       "      <th>4</th>\n",
       "      <td>GABRIEL BUTRON CHIAPA</td>\n",
       "      <td>GABRIEL BUTRON CHIAPA</td>\n",
       "      <td>1109813.000000000</td>\n",
       "    </tr>\n",
       "  </tbody>\n",
       "</table>\n",
       "</div>"
      ],
      "text/plain": [
       "               CONCESIONARIO                      GRUPO  INGRESOS_TOTAL_E\n",
       "0       ADOLFO MERINO MEDINA             GRUPO TELEVISA  434431.000000000\n",
       "1       AGUSTIN PEREZ VIEYRA       AGUSTIN PEREZ VIEYRA  682018.800000000\n",
       "2  ARELY ISABEL GONGORA PECH  ARELY ISABEL GONGORA PECH 1149516.000000000\n",
       "3    FRANCISCO GUERRA GARCIA    FRANCISCO GUERRA GARCIA 1947843.000000000\n",
       "4      GABRIEL BUTRON CHIAPA      GABRIEL BUTRON CHIAPA 1109813.000000000"
      ]
     },
     "execution_count": 6,
     "metadata": {},
     "output_type": "execute_result"
    }
   ],
   "source": [
    "ingresos_por_grupo = ingresos[['CONCESIONARIO', 'GRUPO', 'INGRESOS_TOTAL_E']]\n",
    "ingresos_por_grupo.head()"
   ]
  },
  {
   "cell_type": "code",
   "execution_count": 7,
   "id": "bc534e91",
   "metadata": {},
   "outputs": [
    {
     "data": {
      "text/plain": [
       "CONCESIONARIO       0\n",
       "GRUPO               0\n",
       "INGRESOS_TOTAL_E    4\n",
       "dtype: int64"
      ]
     },
     "execution_count": 7,
     "metadata": {},
     "output_type": "execute_result"
    }
   ],
   "source": [
    "ingresos_por_grupo.isna().sum()"
   ]
  },
  {
   "cell_type": "code",
   "execution_count": 8,
   "id": "f85d8721",
   "metadata": {},
   "outputs": [
    {
     "data": {
      "text/plain": [
       "array(['GRUPO TELEVISA', 'AGUSTIN PEREZ VIEYRA',\n",
       "       'ARELY ISABEL GONGORA PECH', 'FRANCISCO GUERRA GARCIA',\n",
       "       'GABRIEL BUTRON CHIAPA', 'GUILLERMO MEDELLIN MILAN',\n",
       "       'GUILLERMO ZARATE GARCIA', 'ISALIA MORENO ZETINA',\n",
       "       'JAIME SANCHEZ SANCHEZ', 'JESUS MIGUEL FERNANDEZ GUERRERO',\n",
       "       'JOSE JULIAN SACRAMENTO GARZA', 'MANUEL LOPEZ AVILA',\n",
       "       'MARCO ANTONIO ROSALES HERRERA', 'ROBERTO LOPEZ BRAVO',\n",
       "       'SARA QUIROZ CHAPA', 'TV-K', 'TELECAB', 'STARGROUP',\n",
       "       'MEGACABLE-MCM', 'TELESISTEMAS PENINSULARES', 'AXTEL', 'GLOBALSAT',\n",
       "       'TELECOM NACIONAL', 'TOTALPLAY', 'AXESAT', 'AIRECABLE',\n",
       "       'USA TELECOM', 'COMCAB', 'SINOTECA',\n",
       "       'COORDINADORA DE TV POR CABLE', 'TV OJO CALIENTE',\n",
       "       'GTAC REDES DE FIBRA OPTICA', 'AMERICA MOVIL',\n",
       "       'TELECABLE DE TICUL', 'EUTELSAT AMERICAS', 'MARCATEL',\n",
       "       'LINK TE CONECTAMOS', 'HISPASAT', 'ELARA COMUNICACIONES',\n",
       "       'CABLEVISION DE APATZINGAN', 'DISH-MVS', 'MAXICABLE',\n",
       "       'BT LATAM MEXICO', 'TELECABLE DE COAHUAYANA', 'TELEFONICA', 'OUI',\n",
       "       'VERIZON SERVICIOS EMPRESARIALES MEXICO', 'BBG COMUNICACION',\n",
       "       'MVSTV', 'SUPERCOM', 'JACE TELECOM', 'SECSA', 'RAVS CABLE',\n",
       "       'HNS DE MEXICO', 'UC TELECOM', 'MAXCOM', 'TELECABLE DE AGUILILLA',\n",
       "       'HIPERCABLE DE MONCLOVA', 'TELECABLE DE TEKAX', 'STAR NET',\n",
       "       'TELECABLE DE XALTIANGUIS', 'IST', 'TOKA MOVIL',\n",
       "       'OPERADORA TELEFONICA PENINSULAR', 'VIRGIN MOBILE', 'BUENO CELL',\n",
       "       'IENTC', 'CABLEVISION DE LA HUACANA', 'TELECABLE DE CAMPECHE',\n",
       "       'OTROS', 'TELECABLE DE VILLANUEVA', 'QBO CEL', 'CONCABLETV',\n",
       "       'AT&T', 'TELECABLE MERIDA', 'TVDIG', 'NEXT TELEKOM',\n",
       "       'FLASH MOBILE', 'CABLE SISTEMA DEL CENTRO', 'SIMPATI',\n",
       "       'HERMOVISION', 'SIHI MEXICO', 'COMNET', 'VADSA', 'RBACATV',\n",
       "       'EYCO DE LOS ALTOS', 'FREEDOM', 'ALTAN', 'SIERRA MADRE TELECOM',\n",
       "       'QUATTROCOM', 'NET LINK', 'SISCAB DE MEXICO', 'ESPID',\n",
       "       'TELECABLE DE CUERNAVACA', 'GILAT', 'VASANTA',\n",
       "       'GRUPO CORPORATIVO ZUNUN PAZ', 'INTEGRA COMUNICACIONES',\n",
       "       'CABLEPLAY', 'MUCHOS MEGAS', 'YOBI TELECOM', 'GURUCOMM', 'SISTV',\n",
       "       'CCA', 'TELECABLE DE MARIANO ESCOBEDO', 'ADDINTELI', 'DIRI MOVIL',\n",
       "       'IGOU TELECOM', 'NEWWW', 'WIMOTELECOM', 'WEEX', 'CRO.NET', 'GOBO',\n",
       "       'RED DOG', 'TELMOVIL', 'MARKETING 358', 'BROMOVIL',\n",
       "       'EDUARDO PEDRERO PEREZ'], dtype=object)"
      ]
     },
     "execution_count": 8,
     "metadata": {},
     "output_type": "execute_result"
    }
   ],
   "source": [
    "ingresos_por_grupo['GRUPO'].unique()"
   ]
  },
  {
   "cell_type": "code",
   "execution_count": 9,
   "id": "a8be837d",
   "metadata": {},
   "outputs": [
    {
     "data": {
      "text/html": [
       "<div>\n",
       "<style scoped>\n",
       "    .dataframe tbody tr th:only-of-type {\n",
       "        vertical-align: middle;\n",
       "    }\n",
       "\n",
       "    .dataframe tbody tr th {\n",
       "        vertical-align: top;\n",
       "    }\n",
       "\n",
       "    .dataframe thead th {\n",
       "        text-align: right;\n",
       "    }\n",
       "</style>\n",
       "<table border=\"1\" class=\"dataframe\">\n",
       "  <thead>\n",
       "    <tr style=\"text-align: right;\">\n",
       "      <th></th>\n",
       "      <th>INGRESOS_TOTAL_E</th>\n",
       "    </tr>\n",
       "    <tr>\n",
       "      <th>GRUPO</th>\n",
       "      <th></th>\n",
       "    </tr>\n",
       "  </thead>\n",
       "  <tbody>\n",
       "    <tr>\n",
       "      <th>ADDINTELI</th>\n",
       "      <td>2462635.000000000</td>\n",
       "    </tr>\n",
       "    <tr>\n",
       "      <th>AGUSTIN PEREZ VIEYRA</th>\n",
       "      <td>682018.800000000</td>\n",
       "    </tr>\n",
       "    <tr>\n",
       "      <th>AIRECABLE</th>\n",
       "      <td>3155850.880000000</td>\n",
       "    </tr>\n",
       "    <tr>\n",
       "      <th>ALTAN</th>\n",
       "      <td>862839373.789999962</td>\n",
       "    </tr>\n",
       "    <tr>\n",
       "      <th>AMERICA MOVIL</th>\n",
       "      <td>86559324650.000000000</td>\n",
       "    </tr>\n",
       "    <tr>\n",
       "      <th>...</th>\n",
       "      <td>...</td>\n",
       "    </tr>\n",
       "    <tr>\n",
       "      <th>VERIZON SERVICIOS EMPRESARIALES MEXICO</th>\n",
       "      <td>94305990.109999999</td>\n",
       "    </tr>\n",
       "    <tr>\n",
       "      <th>VIRGIN MOBILE</th>\n",
       "      <td>0.000000000</td>\n",
       "    </tr>\n",
       "    <tr>\n",
       "      <th>WEEX</th>\n",
       "      <td>8026895.340000000</td>\n",
       "    </tr>\n",
       "    <tr>\n",
       "      <th>WIMOTELECOM</th>\n",
       "      <td>90127067.799999997</td>\n",
       "    </tr>\n",
       "    <tr>\n",
       "      <th>YOBI TELECOM</th>\n",
       "      <td>14370517.470000001</td>\n",
       "    </tr>\n",
       "  </tbody>\n",
       "</table>\n",
       "<p>118 rows × 1 columns</p>\n",
       "</div>"
      ],
      "text/plain": [
       "                                            INGRESOS_TOTAL_E\n",
       "GRUPO                                                       \n",
       "ADDINTELI                                  2462635.000000000\n",
       "AGUSTIN PEREZ VIEYRA                        682018.800000000\n",
       "AIRECABLE                                  3155850.880000000\n",
       "ALTAN                                    862839373.789999962\n",
       "AMERICA MOVIL                          86559324650.000000000\n",
       "...                                                      ...\n",
       "VERIZON SERVICIOS EMPRESARIALES MEXICO    94305990.109999999\n",
       "VIRGIN MOBILE                                    0.000000000\n",
       "WEEX                                       8026895.340000000\n",
       "WIMOTELECOM                               90127067.799999997\n",
       "YOBI TELECOM                              14370517.470000001\n",
       "\n",
       "[118 rows x 1 columns]"
      ]
     },
     "execution_count": 9,
     "metadata": {},
     "output_type": "execute_result"
    }
   ],
   "source": [
    "# Agrupados\n",
    "\n",
    "ingresos_agrupados = ingresos_por_grupo.groupby(['GRUPO']).sum()\n",
    "ingresos_agrupados"
   ]
  },
  {
   "cell_type": "code",
   "execution_count": 10,
   "id": "7fd8e04f",
   "metadata": {},
   "outputs": [
    {
     "data": {
      "text/html": [
       "<div>\n",
       "<style scoped>\n",
       "    .dataframe tbody tr th:only-of-type {\n",
       "        vertical-align: middle;\n",
       "    }\n",
       "\n",
       "    .dataframe tbody tr th {\n",
       "        vertical-align: top;\n",
       "    }\n",
       "\n",
       "    .dataframe thead th {\n",
       "        text-align: right;\n",
       "    }\n",
       "</style>\n",
       "<table border=\"1\" class=\"dataframe\">\n",
       "  <thead>\n",
       "    <tr style=\"text-align: right;\">\n",
       "      <th></th>\n",
       "      <th>GRUPO</th>\n",
       "      <th>INGRESOS_TOTAL_E</th>\n",
       "    </tr>\n",
       "  </thead>\n",
       "  <tbody>\n",
       "    <tr>\n",
       "      <th>4</th>\n",
       "      <td>AMERICA MOVIL</td>\n",
       "      <td>86559324650.000000000</td>\n",
       "    </tr>\n",
       "    <tr>\n",
       "      <th>38</th>\n",
       "      <td>GRUPO TELEVISA</td>\n",
       "      <td>18204157323.790000916</td>\n",
       "    </tr>\n",
       "    <tr>\n",
       "      <th>6</th>\n",
       "      <td>AT&amp;T</td>\n",
       "      <td>14680526078.000000000</td>\n",
       "    </tr>\n",
       "    <tr>\n",
       "      <th>101</th>\n",
       "      <td>TELEFONICA</td>\n",
       "      <td>6655353071.899999619</td>\n",
       "    </tr>\n",
       "    <tr>\n",
       "      <th>63</th>\n",
       "      <td>MEGACABLE-MCM</td>\n",
       "      <td>6433334578.200000763</td>\n",
       "    </tr>\n",
       "    <tr>\n",
       "      <th>...</th>\n",
       "      <td>...</td>\n",
       "      <td>...</td>\n",
       "    </tr>\n",
       "    <tr>\n",
       "      <th>19</th>\n",
       "      <td>COMNET</td>\n",
       "      <td>16234.890000000</td>\n",
       "    </tr>\n",
       "    <tr>\n",
       "      <th>111</th>\n",
       "      <td>VADSA</td>\n",
       "      <td>0.000000000</td>\n",
       "    </tr>\n",
       "    <tr>\n",
       "      <th>8</th>\n",
       "      <td>AXTEL</td>\n",
       "      <td>0.000000000</td>\n",
       "    </tr>\n",
       "    <tr>\n",
       "      <th>114</th>\n",
       "      <td>VIRGIN MOBILE</td>\n",
       "      <td>0.000000000</td>\n",
       "    </tr>\n",
       "    <tr>\n",
       "      <th>72</th>\n",
       "      <td>QBO CEL</td>\n",
       "      <td>0.000000000</td>\n",
       "    </tr>\n",
       "  </tbody>\n",
       "</table>\n",
       "<p>118 rows × 2 columns</p>\n",
       "</div>"
      ],
      "text/plain": [
       "              GRUPO      INGRESOS_TOTAL_E\n",
       "4     AMERICA MOVIL 86559324650.000000000\n",
       "38   GRUPO TELEVISA 18204157323.790000916\n",
       "6              AT&T 14680526078.000000000\n",
       "101      TELEFONICA  6655353071.899999619\n",
       "63    MEGACABLE-MCM  6433334578.200000763\n",
       "..              ...                   ...\n",
       "19           COMNET       16234.890000000\n",
       "111           VADSA           0.000000000\n",
       "8             AXTEL           0.000000000\n",
       "114   VIRGIN MOBILE           0.000000000\n",
       "72          QBO CEL           0.000000000\n",
       "\n",
       "[118 rows x 2 columns]"
      ]
     },
     "execution_count": 10,
     "metadata": {},
     "output_type": "execute_result"
    }
   ],
   "source": [
    "ingresos_agrupados = ingresos_agrupados.reset_index().sort_values(by=['INGRESOS_TOTAL_E'], ascending=False)\n",
    "ingresos_agrupados"
   ]
  },
  {
   "cell_type": "code",
   "execution_count": 11,
   "id": "ed2d7a7b",
   "metadata": {},
   "outputs": [
    {
     "data": {
      "text/html": [
       "<div>\n",
       "<style scoped>\n",
       "    .dataframe tbody tr th:only-of-type {\n",
       "        vertical-align: middle;\n",
       "    }\n",
       "\n",
       "    .dataframe tbody tr th {\n",
       "        vertical-align: top;\n",
       "    }\n",
       "\n",
       "    .dataframe thead th {\n",
       "        text-align: right;\n",
       "    }\n",
       "</style>\n",
       "<table border=\"1\" class=\"dataframe\">\n",
       "  <thead>\n",
       "    <tr style=\"text-align: right;\">\n",
       "      <th></th>\n",
       "      <th>GRUPO</th>\n",
       "      <th>INGRESOS_TOTAL_E</th>\n",
       "    </tr>\n",
       "  </thead>\n",
       "  <tbody>\n",
       "    <tr>\n",
       "      <th>4</th>\n",
       "      <td>AMERICA MOVIL</td>\n",
       "      <td>86559324650.000000000</td>\n",
       "    </tr>\n",
       "    <tr>\n",
       "      <th>38</th>\n",
       "      <td>GRUPO TELEVISA</td>\n",
       "      <td>18204157323.790000916</td>\n",
       "    </tr>\n",
       "    <tr>\n",
       "      <th>6</th>\n",
       "      <td>AT&amp;T</td>\n",
       "      <td>14680526078.000000000</td>\n",
       "    </tr>\n",
       "    <tr>\n",
       "      <th>101</th>\n",
       "      <td>TELEFONICA</td>\n",
       "      <td>6655353071.899999619</td>\n",
       "    </tr>\n",
       "    <tr>\n",
       "      <th>63</th>\n",
       "      <td>MEGACABLE-MCM</td>\n",
       "      <td>6433334578.200000763</td>\n",
       "    </tr>\n",
       "    <tr>\n",
       "      <th>...</th>\n",
       "      <td>...</td>\n",
       "      <td>...</td>\n",
       "    </tr>\n",
       "    <tr>\n",
       "      <th>19</th>\n",
       "      <td>COMNET</td>\n",
       "      <td>16234.890000000</td>\n",
       "    </tr>\n",
       "    <tr>\n",
       "      <th>111</th>\n",
       "      <td>VADSA</td>\n",
       "      <td>0.000000000</td>\n",
       "    </tr>\n",
       "    <tr>\n",
       "      <th>8</th>\n",
       "      <td>AXTEL</td>\n",
       "      <td>0.000000000</td>\n",
       "    </tr>\n",
       "    <tr>\n",
       "      <th>114</th>\n",
       "      <td>VIRGIN MOBILE</td>\n",
       "      <td>0.000000000</td>\n",
       "    </tr>\n",
       "    <tr>\n",
       "      <th>72</th>\n",
       "      <td>QBO CEL</td>\n",
       "      <td>0.000000000</td>\n",
       "    </tr>\n",
       "  </tbody>\n",
       "</table>\n",
       "<p>118 rows × 2 columns</p>\n",
       "</div>"
      ],
      "text/plain": [
       "              GRUPO      INGRESOS_TOTAL_E\n",
       "4     AMERICA MOVIL 86559324650.000000000\n",
       "38   GRUPO TELEVISA 18204157323.790000916\n",
       "6              AT&T 14680526078.000000000\n",
       "101      TELEFONICA  6655353071.899999619\n",
       "63    MEGACABLE-MCM  6433334578.200000763\n",
       "..              ...                   ...\n",
       "19           COMNET       16234.890000000\n",
       "111           VADSA           0.000000000\n",
       "8             AXTEL           0.000000000\n",
       "114   VIRGIN MOBILE           0.000000000\n",
       "72          QBO CEL           0.000000000\n",
       "\n",
       "[118 rows x 2 columns]"
      ]
     },
     "execution_count": 11,
     "metadata": {},
     "output_type": "execute_result"
    }
   ],
   "source": [
    "ingresos_agrupados.sort_values(by=['INGRESOS_TOTAL_E'], ascending=False)"
   ]
  },
  {
   "cell_type": "code",
   "execution_count": 12,
   "id": "464f5535",
   "metadata": {},
   "outputs": [
    {
     "data": {
      "text/plain": [
       "GRUPO                object\n",
       "INGRESOS_TOTAL_E    float64\n",
       "dtype: object"
      ]
     },
     "execution_count": 12,
     "metadata": {},
     "output_type": "execute_result"
    }
   ],
   "source": [
    "ingresos_agrupados.dtypes"
   ]
  },
  {
   "cell_type": "code",
   "execution_count": 13,
   "id": "eb0d3309",
   "metadata": {},
   "outputs": [
    {
     "data": {
      "image/png": "[encoded data removed]",
      "text/plain": [
       "<Figure size 432x288 with 1 Axes>"
      ]
     },
     "metadata": {
      "needs_background": "light"
     },
     "output_type": "display_data"
    },
    {
     "name": "stdout",
     "output_type": "stream",
     "text": [
      "NormaltestResult(statistic=239.96907959190003, pvalue=7.787112570772441e-53)\n"
     ]
    }
   ],
   "source": [
    "plt.hist(ingresos_agrupados['INGRESOS_TOTAL_E'])\n",
    "plt.xlabel('Ingresos ($)')\n",
    "plt.ylabel('Frecuencia absoluta')\n",
    "plt.show()\n",
    "print(sts.normaltest(ingresos_agrupados['INGRESOS_TOTAL_E'])) # no pasa la prueba de normalidad (sesgo)"
   ]
  },
  {
   "cell_type": "code",
   "execution_count": 14,
   "id": "4cad5239",
   "metadata": {},
   "outputs": [
    {
     "data": {
      "text/html": [
       "<div>\n",
       "<style scoped>\n",
       "    .dataframe tbody tr th:only-of-type {\n",
       "        vertical-align: middle;\n",
       "    }\n",
       "\n",
       "    .dataframe tbody tr th {\n",
       "        vertical-align: top;\n",
       "    }\n",
       "\n",
       "    .dataframe thead th {\n",
       "        text-align: right;\n",
       "    }\n",
       "</style>\n",
       "<table border=\"1\" class=\"dataframe\">\n",
       "  <thead>\n",
       "    <tr style=\"text-align: right;\">\n",
       "      <th></th>\n",
       "      <th>GRUPO</th>\n",
       "      <th>INGRESOS_TOTAL_E</th>\n",
       "    </tr>\n",
       "  </thead>\n",
       "  <tbody>\n",
       "    <tr>\n",
       "      <th>4</th>\n",
       "      <td>AMERICA MOVIL</td>\n",
       "      <td>86559324650.000000000</td>\n",
       "    </tr>\n",
       "    <tr>\n",
       "      <th>38</th>\n",
       "      <td>GRUPO TELEVISA</td>\n",
       "      <td>18204157323.790000916</td>\n",
       "    </tr>\n",
       "    <tr>\n",
       "      <th>6</th>\n",
       "      <td>AT&amp;T</td>\n",
       "      <td>14680526078.000000000</td>\n",
       "    </tr>\n",
       "    <tr>\n",
       "      <th>101</th>\n",
       "      <td>TELEFONICA</td>\n",
       "      <td>6655353071.899999619</td>\n",
       "    </tr>\n",
       "    <tr>\n",
       "      <th>63</th>\n",
       "      <td>MEGACABLE-MCM</td>\n",
       "      <td>6433334578.200000763</td>\n",
       "    </tr>\n",
       "    <tr>\n",
       "      <th>...</th>\n",
       "      <td>...</td>\n",
       "      <td>...</td>\n",
       "    </tr>\n",
       "    <tr>\n",
       "      <th>53</th>\n",
       "      <td>JAIME SANCHEZ SANCHEZ</td>\n",
       "      <td>125171.000000000</td>\n",
       "    </tr>\n",
       "    <tr>\n",
       "      <th>37</th>\n",
       "      <td>GRUPO CORPORATIVO ZUNUN PAZ</td>\n",
       "      <td>88182.000000000</td>\n",
       "    </tr>\n",
       "    <tr>\n",
       "      <th>25</th>\n",
       "      <td>EDUARDO PEDRERO PEREZ</td>\n",
       "      <td>68200.000000000</td>\n",
       "    </tr>\n",
       "    <tr>\n",
       "      <th>48</th>\n",
       "      <td>IGOU TELECOM</td>\n",
       "      <td>61997.030000000</td>\n",
       "    </tr>\n",
       "    <tr>\n",
       "      <th>19</th>\n",
       "      <td>COMNET</td>\n",
       "      <td>16234.890000000</td>\n",
       "    </tr>\n",
       "  </tbody>\n",
       "</table>\n",
       "<p>114 rows × 2 columns</p>\n",
       "</div>"
      ],
      "text/plain": [
       "                           GRUPO      INGRESOS_TOTAL_E\n",
       "4                  AMERICA MOVIL 86559324650.000000000\n",
       "38                GRUPO TELEVISA 18204157323.790000916\n",
       "6                           AT&T 14680526078.000000000\n",
       "101                   TELEFONICA  6655353071.899999619\n",
       "63                 MEGACABLE-MCM  6433334578.200000763\n",
       "..                           ...                   ...\n",
       "53         JAIME SANCHEZ SANCHEZ      125171.000000000\n",
       "37   GRUPO CORPORATIVO ZUNUN PAZ       88182.000000000\n",
       "25         EDUARDO PEDRERO PEREZ       68200.000000000\n",
       "48                  IGOU TELECOM       61997.030000000\n",
       "19                        COMNET       16234.890000000\n",
       "\n",
       "[114 rows x 2 columns]"
      ]
     },
     "execution_count": 14,
     "metadata": {},
     "output_type": "execute_result"
    }
   ],
   "source": [
    "# cuántos ceros tenemos en las cifras\n",
    "m = ingresos_agrupados[ingresos_agrupados['INGRESOS_TOTAL_E']!=0]\n",
    "\n",
    "ingresos_agrupados_transformables = m\n",
    "\n",
    "ingresos_agrupados_transformables"
   ]
  },
  {
   "cell_type": "code",
   "execution_count": 15,
   "id": "dcd73377",
   "metadata": {},
   "outputs": [
    {
     "data": {
      "image/png": "[encoded data removed]",
      "text/plain": [
       "<Figure size 432x288 with 1 Axes>"
      ]
     },
     "metadata": {
      "needs_background": "light"
     },
     "output_type": "display_data"
    },
    {
     "name": "stdout",
     "output_type": "stream",
     "text": [
      "NormaltestResult(statistic=20.667330958740976, pvalue=3.251966809978271e-05)\n"
     ]
    }
   ],
   "source": [
    "# Aplicar logarítmos para reducir el efecto de la magnitud de los datos.\n",
    "ln_ingresos = np.log(ingresos_agrupados_transformables['INGRESOS_TOTAL_E']) \n",
    "\n",
    "plt.hist(ln_ingresos)\n",
    "plt.xlabel('Ingresos ($)')\n",
    "plt.ylabel('Frecuencia absoluta')\n",
    "plt.show()\n",
    "print(sts.normaltest(ln_ingresos)) # no pasa la prueba de normalidad (sesgo)"
   ]
  },
  {
   "cell_type": "code",
   "execution_count": 16,
   "id": "0d0640cf",
   "metadata": {},
   "outputs": [
    {
     "name": "stdout",
     "output_type": "stream",
     "text": [
      "La varianza del ln de los ingresos totales en 2021 es de 8.089757026085016\n",
      "Lo que implica $ 3260.8951614995385\n",
      "La desviación estándar del ln de los ingresos totales en 2021 es de 2.844249817805218\n",
      "Lo que implica $ 17.18865920496856\n"
     ]
    }
   ],
   "source": [
    "# Análisis de varianza\n",
    "var_numpy = np.var(ln_ingresos, ddof = 0)\n",
    "print(f\"La varianza del ln de los ingresos totales en 2021 es de {var_numpy}\")\n",
    "print(f'Lo que implica $ {np.exp(var_numpy)}')\n",
    "\n",
    "sd_numpy = np.std(ln_ingresos,ddof = 0)\n",
    "print(f\"La desviación estándar del ln de los ingresos totales en 2021 es de {sd_numpy}\")\n",
    "print(f'Lo que implica $ {np.exp(sd_numpy)}')"
   ]
  },
  {
   "cell_type": "code",
   "execution_count": 17,
   "id": "ddac4f4a",
   "metadata": {},
   "outputs": [
    {
     "name": "stdout",
     "output_type": "stream",
     "text": [
      "La varianza del ln de los ingresos totales en 2021 es de 6.772754472465604e+19\n",
      "La desviación estándar del ln de los ingresos totales en 2021 es de 8229674642.697367\n"
     ]
    }
   ],
   "source": [
    "var_numpy2 = np.var(ingresos_agrupados['INGRESOS_TOTAL_E'], ddof = 0)\n",
    "print(f\"La varianza del ln de los ingresos totales en 2021 es de {var_numpy2}\")\n",
    "\n",
    "sd_numpy2 = np.std(ingresos_agrupados['INGRESOS_TOTAL_E'],ddof = 0)\n",
    "print(f\"La desviación estándar del ln de los ingresos totales en 2021 es de {sd_numpy2}\")\n"
   ]
  },
  {
   "cell_type": "code",
   "execution_count": 18,
   "id": "3cd83121",
   "metadata": {},
   "outputs": [
    {
     "name": "stdout",
     "output_type": "stream",
     "text": [
      "La media del ln de los ingresos 202 es de 15.551925110683992\n",
      "Lo que implica $ 5676952.475370145\n"
     ]
    }
   ],
   "source": [
    "# La media\n",
    "media = np.mean(ln_ingresos)\n",
    "print(f\"La media del ln de los ingresos 202 es de {media}\")\n",
    "print(f'Lo que implica $ {np.exp(media)}')"
   ]
  },
  {
   "cell_type": "code",
   "execution_count": 19,
   "id": "b8e98c7a",
   "metadata": {},
   "outputs": [
    {
     "name": "stdout",
     "output_type": "stream",
     "text": [
      "Casi el 68% de los datos está entre 12.708 and 18.396\n",
      "Casi el 95% de los datos está entre 9.863 and 21.24\n",
      "Casi el 99.7% de los datos está entre 7.019 and 24.085\n"
     ]
    }
   ],
   "source": [
    "# Calculando la regla de 68-95-99.7 usando la desviación estándar:\n",
    "print(f\"Casi el 68% de los datos está entre {round(media-sd_numpy,3)} and {round(media+sd_numpy,3)}\")\n",
    "print(f\"Casi el 95% de los datos está entre {round(media-2*sd_numpy,3)} and {round(media +2*sd_numpy,3)}\")\n",
    "print(f\"Casi el 99.7% de los datos está entre {round(media-3*sd_numpy,3)} and {round(media+3*sd_numpy,3)}\")"
   ]
  },
  {
   "cell_type": "code",
   "execution_count": 20,
   "id": "30b87a28",
   "metadata": {},
   "outputs": [
    {
     "name": "stdout",
     "output_type": "stream",
     "text": [
      "Los score z es [ 3.38654174  2.83835501  2.76271885  2.4845786   2.47264979  2.45924285\n",
      "  1.88551411  1.76630546  1.52605688  1.37336494  1.25172829  1.16810821\n",
      "  1.15242846  1.115703    1.10759404  0.98800399  0.97206862  0.96617208\n",
      "  0.92582449  0.91399133  0.88948858  0.86110258  0.75585214  0.73022418\n",
      "  0.62129924  0.60631742  0.58670493  0.47978678  0.47255677  0.46848636\n",
      "  0.42105476  0.33915417  0.32654099  0.3184484   0.3184484   0.30903062\n",
      "  0.26757697  0.22966976  0.20782113  0.16815543  0.1217837   0.10923857\n",
      "  0.07374804  0.03910471  0.03395439  0.01592497 -0.00876249 -0.01363698\n",
      " -0.01504733 -0.02038301 -0.05453571 -0.09124271 -0.11476189 -0.13207756\n",
      " -0.14005073 -0.14712846 -0.18663687 -0.19384552 -0.2013154  -0.2064363\n",
      " -0.23917642 -0.24113072 -0.26098485 -0.27677245 -0.29363899 -0.32561024\n",
      " -0.36459242 -0.36836634 -0.37608931 -0.3804018  -0.41843045 -0.43587238\n",
      " -0.4602558  -0.46329154 -0.47730916 -0.49104055 -0.52448029 -0.53066453\n",
      " -0.54496111 -0.55250764 -0.5615096  -0.56260118 -0.57386767 -0.70119716\n",
      " -0.71432845 -0.71661642 -0.74505151 -0.74595005 -0.74595005 -0.79040838\n",
      " -0.7916702  -0.79701414 -0.80285167 -0.81410724 -0.82173499 -0.82448308\n",
      " -0.82478546 -0.83453813 -0.89873287 -0.93656128 -0.9919231  -0.99571035\n",
      " -1.0505307  -1.11645398 -1.197907   -1.21797612 -1.29085691 -1.32313692\n",
      " -1.34112306 -1.34112306 -1.46427608 -1.55461916 -1.58814578 -2.05924499]\n"
     ]
    }
   ],
   "source": [
    "# El score z nos dice el número de desviaciones estándar en el que un dato de ingreso está cerca de la media\n",
    "z_scipy = sts.zscore(ln_ingresos)\n",
    "print(f\"Los score z es {z_scipy}\")"
   ]
  },
  {
   "cell_type": "code",
   "execution_count": 21,
   "id": "47b1a669",
   "metadata": {},
   "outputs": [
    {
     "data": {
      "image/png": "[encoded data removed]",
      "text/plain": [
       "<Figure size 432x288 with 1 Axes>"
      ]
     },
     "metadata": {
      "needs_background": "light"
     },
     "output_type": "display_data"
    }
   ],
   "source": [
    "# Prueba de outliers (los grandes operadores)\n",
    "\n",
    "fig1, ax1 = plt.subplots()\n",
    "ax1.set_title('Ingresos totales por operador o grupo económico 2021 (ln)')\n",
    "ax1.set_ylabel('MX$')\n",
    "ax1.boxplot(ln_ingresos)\n",
    "plt.show()"
   ]
  },
  {
   "cell_type": "code",
   "execution_count": 22,
   "id": "e8c94f3a",
   "metadata": {},
   "outputs": [
    {
     "data": {
      "image/png": "[encoded data removed]",
      "text/plain": [
       "<Figure size 432x288 with 1 Axes>"
      ]
     },
     "metadata": {
      "needs_background": "light"
     },
     "output_type": "display_data"
    }
   ],
   "source": [
    "# Prueba de outliers (los grandes operadores)\n",
    "\n",
    "fig1, ax1 = plt.subplots()\n",
    "ax1.set_title('Ingresos totales por operador o grupo económico 2021')\n",
    "ax1.set_ylabel('MX$')\n",
    "ax1.boxplot(ingresos_agrupados['INGRESOS_TOTAL_E'])\n",
    "plt.show()"
   ]
  },
  {
   "cell_type": "code",
   "execution_count": 28,
   "id": "c326b6cf",
   "metadata": {},
   "outputs": [
    {
     "name": "stdout",
     "output_type": "stream",
     "text": [
      "El cuartil más bajo de los ingresos es: 13.51531587998225\n",
      "El cuartil más alto de los ingresos es: 16.89310031412893\n",
      "El rango intercuantil de los ingresos es: 3.3777844341466796\n",
      "El ingreso medio es: 15.010831615680564 \n",
      "Valores por debajo 10.13753144583557 se consideran datos aberrantes.\n",
      "Valores por encima 20.27088474827561 se consideran datos aberrantes que no son elegibles para el Comité de Pequeños Operadores.\n"
     ]
    }
   ],
   "source": [
    "# Análisis con quartiles y rango intercuantil para efectos de identificar los outliers\n",
    "\n",
    "quartiles = ln_ingresos.quantile([.25,.5,.75])\n",
    "lowerq = quartiles[0.25]\n",
    "upperq = quartiles[0.75]\n",
    "iqr = upperq-lowerq\n",
    "\n",
    "print(f\"El cuartil más bajo de los ingresos es: {lowerq}\")\n",
    "print(f\"El cuartil más alto de los ingresos es: {upperq}\")\n",
    "print(f\"El rango intercuantil de los ingresos es: {iqr}\")\n",
    "print(f\"El ingreso medio es: {quartiles[0.5]} \")\n",
    "\n",
    "lower_bound = lowerq - (1*iqr)\n",
    "upper_bound = upperq + (1*iqr)\n",
    "print(f\"Valores por debajo {lower_bound} se consideran datos aberrantes.\")\n",
    "print(f\"Valores por encima {upper_bound} se consideran datos aberrantes que no son elegibles para el Comité de Pequeños Operadores.\")\n",
    "\n"
   ]
  },
  {
   "cell_type": "code",
   "execution_count": 29,
   "id": "fa6f445f",
   "metadata": {},
   "outputs": [
    {
     "name": "stdout",
     "output_type": "stream",
     "text": [
      "Los ingresos extremadamente grandes son aquellos que son mayores o iguales a $ 636111708.5629226\n"
     ]
    }
   ],
   "source": [
    "print(f'Los ingresos extremadamente grandes son aquellos que son mayores o iguales a $ {np.exp(upper_bound)}')"
   ]
  },
  {
   "cell_type": "code",
   "execution_count": 32,
   "id": "3291e7e6",
   "metadata": {},
   "outputs": [
    {
     "data": {
      "text/html": [
       "<div>\n",
       "<style scoped>\n",
       "    .dataframe tbody tr th:only-of-type {\n",
       "        vertical-align: middle;\n",
       "    }\n",
       "\n",
       "    .dataframe tbody tr th {\n",
       "        vertical-align: top;\n",
       "    }\n",
       "\n",
       "    .dataframe thead th {\n",
       "        text-align: right;\n",
       "    }\n",
       "</style>\n",
       "<table border=\"1\" class=\"dataframe\">\n",
       "  <thead>\n",
       "    <tr style=\"text-align: right;\">\n",
       "      <th></th>\n",
       "      <th>GRUPO</th>\n",
       "      <th>INGRESOS_TOTAL_E</th>\n",
       "    </tr>\n",
       "  </thead>\n",
       "  <tbody>\n",
       "    <tr>\n",
       "      <th>87</th>\n",
       "      <td>STARGROUP</td>\n",
       "      <td>435677179.049999952</td>\n",
       "    </tr>\n",
       "    <tr>\n",
       "      <th>39</th>\n",
       "      <td>GTAC REDES DE FIBRA OPTICA</td>\n",
       "      <td>282197600.000000000</td>\n",
       "    </tr>\n",
       "    <tr>\n",
       "      <th>58</th>\n",
       "      <td>MARCATEL</td>\n",
       "      <td>199665310.550000012</td>\n",
       "    </tr>\n",
       "    <tr>\n",
       "      <th>61</th>\n",
       "      <td>MAXCOM</td>\n",
       "      <td>157402483.000000000</td>\n",
       "    </tr>\n",
       "    <tr>\n",
       "      <th>71</th>\n",
       "      <td>OUI</td>\n",
       "      <td>150537012.189999998</td>\n",
       "    </tr>\n",
       "    <tr>\n",
       "      <th>...</th>\n",
       "      <td>...</td>\n",
       "      <td>...</td>\n",
       "    </tr>\n",
       "    <tr>\n",
       "      <th>53</th>\n",
       "      <td>JAIME SANCHEZ SANCHEZ</td>\n",
       "      <td>125171.000000000</td>\n",
       "    </tr>\n",
       "    <tr>\n",
       "      <th>37</th>\n",
       "      <td>GRUPO CORPORATIVO ZUNUN PAZ</td>\n",
       "      <td>88182.000000000</td>\n",
       "    </tr>\n",
       "    <tr>\n",
       "      <th>25</th>\n",
       "      <td>EDUARDO PEDRERO PEREZ</td>\n",
       "      <td>68200.000000000</td>\n",
       "    </tr>\n",
       "    <tr>\n",
       "      <th>48</th>\n",
       "      <td>IGOU TELECOM</td>\n",
       "      <td>61997.030000000</td>\n",
       "    </tr>\n",
       "    <tr>\n",
       "      <th>19</th>\n",
       "      <td>COMNET</td>\n",
       "      <td>16234.890000000</td>\n",
       "    </tr>\n",
       "  </tbody>\n",
       "</table>\n",
       "<p>106 rows × 2 columns</p>\n",
       "</div>"
      ],
      "text/plain": [
       "                          GRUPO    INGRESOS_TOTAL_E\n",
       "87                    STARGROUP 435677179.049999952\n",
       "39   GTAC REDES DE FIBRA OPTICA 282197600.000000000\n",
       "58                     MARCATEL 199665310.550000012\n",
       "61                       MAXCOM 157402483.000000000\n",
       "71                          OUI 150537012.189999998\n",
       "..                          ...                 ...\n",
       "53        JAIME SANCHEZ SANCHEZ    125171.000000000\n",
       "37  GRUPO CORPORATIVO ZUNUN PAZ     88182.000000000\n",
       "25        EDUARDO PEDRERO PEREZ     68200.000000000\n",
       "48                 IGOU TELECOM     61997.030000000\n",
       "19                       COMNET     16234.890000000\n",
       "\n",
       "[106 rows x 2 columns]"
      ]
     },
     "execution_count": 32,
     "metadata": {},
     "output_type": "execute_result"
    }
   ],
   "source": [
    "# de la lista de operadores que tienen un ingreso menor al upper bound son:\n",
    "\n",
    "# Los que quedan dentro del CPO\n",
    "ingresos_agrupados_transformables[ingresos_agrupados_transformables['INGRESOS_TOTAL_E']<=636111708.5629226].sort_values(by=['INGRESOS_TOTAL_E'], ascending=False)"
   ]
  },
  {
   "cell_type": "code",
   "execution_count": 33,
   "id": "893c74b8",
   "metadata": {},
   "outputs": [
    {
     "data": {
      "text/html": [
       "<div>\n",
       "<style scoped>\n",
       "    .dataframe tbody tr th:only-of-type {\n",
       "        vertical-align: middle;\n",
       "    }\n",
       "\n",
       "    .dataframe tbody tr th {\n",
       "        vertical-align: top;\n",
       "    }\n",
       "\n",
       "    .dataframe thead th {\n",
       "        text-align: right;\n",
       "    }\n",
       "</style>\n",
       "<table border=\"1\" class=\"dataframe\">\n",
       "  <thead>\n",
       "    <tr style=\"text-align: right;\">\n",
       "      <th></th>\n",
       "      <th>GRUPO</th>\n",
       "      <th>INGRESOS_TOTAL_E</th>\n",
       "    </tr>\n",
       "  </thead>\n",
       "  <tbody>\n",
       "    <tr>\n",
       "      <th>4</th>\n",
       "      <td>AMERICA MOVIL</td>\n",
       "      <td>86559324650.000000000</td>\n",
       "    </tr>\n",
       "    <tr>\n",
       "      <th>38</th>\n",
       "      <td>GRUPO TELEVISA</td>\n",
       "      <td>18204157323.790000916</td>\n",
       "    </tr>\n",
       "    <tr>\n",
       "      <th>6</th>\n",
       "      <td>AT&amp;T</td>\n",
       "      <td>14680526078.000000000</td>\n",
       "    </tr>\n",
       "    <tr>\n",
       "      <th>101</th>\n",
       "      <td>TELEFONICA</td>\n",
       "      <td>6655353071.899999619</td>\n",
       "    </tr>\n",
       "    <tr>\n",
       "      <th>63</th>\n",
       "      <td>MEGACABLE-MCM</td>\n",
       "      <td>6433334578.200000763</td>\n",
       "    </tr>\n",
       "    <tr>\n",
       "      <th>105</th>\n",
       "      <td>TOTALPLAY</td>\n",
       "      <td>6192632691.090000153</td>\n",
       "    </tr>\n",
       "    <tr>\n",
       "      <th>24</th>\n",
       "      <td>DISH-MVS</td>\n",
       "      <td>1211104115.000000000</td>\n",
       "    </tr>\n",
       "    <tr>\n",
       "      <th>3</th>\n",
       "      <td>ALTAN</td>\n",
       "      <td>862839373.789999962</td>\n",
       "    </tr>\n",
       "  </tbody>\n",
       "</table>\n",
       "</div>"
      ],
      "text/plain": [
       "              GRUPO      INGRESOS_TOTAL_E\n",
       "4     AMERICA MOVIL 86559324650.000000000\n",
       "38   GRUPO TELEVISA 18204157323.790000916\n",
       "6              AT&T 14680526078.000000000\n",
       "101      TELEFONICA  6655353071.899999619\n",
       "63    MEGACABLE-MCM  6433334578.200000763\n",
       "105       TOTALPLAY  6192632691.090000153\n",
       "24         DISH-MVS  1211104115.000000000\n",
       "3             ALTAN   862839373.789999962"
      ]
     },
     "execution_count": 33,
     "metadata": {},
     "output_type": "execute_result"
    }
   ],
   "source": [
    "ingresos_agrupados_transformables[ingresos_agrupados_transformables['INGRESOS_TOTAL_E']>636111708.5629226].sort_values(by=['INGRESOS_TOTAL_E'], ascending=False)"
   ]
  },
  {
   "cell_type": "code",
   "execution_count": null,
   "id": "2e110efb",
   "metadata": {},
   "outputs": [],
   "source": []
  }
 ],
 "metadata": {
  "kernelspec": {
   "display_name": "Python 3",
   "language": "python",
   "name": "python3"
  },
  "language_info": {
   "codemirror_mode": {
    "name": "ipython",
    "version": 3
   },
   "file_extension": ".py",
   "mimetype": "text/x-python",
   "name": "python",
   "nbconvert_exporter": "python",
   "pygments_lexer": "ipython3",
   "version": "3.8.8"
  }
 },
 "nbformat": 4,
 "nbformat_minor": 5
}
